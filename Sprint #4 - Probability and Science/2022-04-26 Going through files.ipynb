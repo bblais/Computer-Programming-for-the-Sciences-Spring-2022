{
 "cells": [
  {
   "cell_type": "code",
   "execution_count": 1,
   "id": "5bb9fc10-ed21-4ae3-a870-612cf052debf",
   "metadata": {},
   "outputs": [],
   "source": [
    "from glob import glob"
   ]
  },
  {
   "cell_type": "code",
   "execution_count": 2,
   "id": "ce9aa3e2-cd8e-454b-9e02-c13dc66b7f3a",
   "metadata": {},
   "outputs": [
    {
     "name": "stdout",
     "output_type": "stream",
     "text": [
      "\u001b[31mlc2fit_B.dat\u001b[m\u001b[m*    \u001b[31mlc2fit_b_8.dat\u001b[m\u001b[m*  \u001b[31mlc2fit_i_9.dat\u001b[m\u001b[m*  \u001b[31mlc2fit_v_1.dat\u001b[m\u001b[m*\n",
      "\u001b[31mlc2fit_R.dat\u001b[m\u001b[m*    \u001b[31mlc2fit_i_1.dat\u001b[m\u001b[m*  \u001b[31mlc2fit_r_1.dat\u001b[m\u001b[m*  \u001b[31mlc2fit_v_10.dat\u001b[m\u001b[m*\n",
      "\u001b[31mlc2fit_U.dat\u001b[m\u001b[m*    \u001b[31mlc2fit_i_10.dat\u001b[m\u001b[m* \u001b[31mlc2fit_r_10.dat\u001b[m\u001b[m* \u001b[31mlc2fit_v_3.dat\u001b[m\u001b[m*\n",
      "\u001b[31mlc2fit_V.dat\u001b[m\u001b[m*    \u001b[31mlc2fit_i_3.dat\u001b[m\u001b[m*  \u001b[31mlc2fit_r_3.dat\u001b[m\u001b[m*  \u001b[31mlc2fit_v_7.dat\u001b[m\u001b[m*\n",
      "\u001b[31mlc2fit_b_1.dat\u001b[m\u001b[m*  \u001b[31mlc2fit_i_5.dat\u001b[m\u001b[m*  \u001b[31mlc2fit_r_5.dat\u001b[m\u001b[m*  \u001b[31mlc2fit_v_8.dat\u001b[m\u001b[m*\n",
      "\u001b[31mlc2fit_b_10.dat\u001b[m\u001b[m* \u001b[31mlc2fit_i_6.dat\u001b[m\u001b[m*  \u001b[31mlc2fit_r_7.dat\u001b[m\u001b[m*  \u001b[31mlc2fit_v_9.dat\u001b[m\u001b[m*\n",
      "\u001b[31mlc2fit_b_3.dat\u001b[m\u001b[m*  \u001b[31mlc2fit_i_7.dat\u001b[m\u001b[m*  \u001b[31mlc2fit_r_8.dat\u001b[m\u001b[m*  \u001b[31mlightfile\u001b[m\u001b[m*\n",
      "\u001b[31mlc2fit_b_7.dat\u001b[m\u001b[m*  \u001b[31mlc2fit_i_8.dat\u001b[m\u001b[m*  \u001b[31mlc2fit_r_9.dat\u001b[m\u001b[m*\n"
     ]
    }
   ],
   "source": [
    "ls data/1999aa/"
   ]
  },
  {
   "cell_type": "code",
   "execution_count": 3,
   "id": "ea8f3740-50f0-4df0-ae41-9b1e18f260a2",
   "metadata": {},
   "outputs": [
    {
     "name": "stdout",
     "output_type": "stream",
     "text": [
      "\u001b[31mlc2fit_B.dat\u001b[m\u001b[m*    \u001b[31mlc2fit_b_7.dat\u001b[m\u001b[m*  \u001b[31mlc2fit_i_9.dat\u001b[m\u001b[m*  \u001b[31mlc2fit_v_1.dat\u001b[m\u001b[m*\n",
      "\u001b[31mlc2fit_R.dat\u001b[m\u001b[m*    \u001b[31mlc2fit_b_8.dat\u001b[m\u001b[m*  \u001b[31mlc2fit_r_1.dat\u001b[m\u001b[m*  \u001b[31mlc2fit_v_10.dat\u001b[m\u001b[m*\n",
      "\u001b[31mlc2fit_U.dat\u001b[m\u001b[m*    \u001b[31mlc2fit_b_9.dat\u001b[m\u001b[m*  \u001b[31mlc2fit_r_10.dat\u001b[m\u001b[m* \u001b[31mlc2fit_v_12.dat\u001b[m\u001b[m*\n",
      "\u001b[31mlc2fit_V.dat\u001b[m\u001b[m*    \u001b[31mlc2fit_i_1.dat\u001b[m\u001b[m*  \u001b[31mlc2fit_r_12.dat\u001b[m\u001b[m* \u001b[31mlc2fit_v_13.dat\u001b[m\u001b[m*\n",
      "\u001b[31mlc2fit_b_1.dat\u001b[m\u001b[m*  \u001b[31mlc2fit_i_10.dat\u001b[m\u001b[m* \u001b[31mlc2fit_r_13.dat\u001b[m\u001b[m* \u001b[31mlc2fit_v_4.dat\u001b[m\u001b[m*\n",
      "\u001b[31mlc2fit_b_10.dat\u001b[m\u001b[m* \u001b[31mlc2fit_i_12.dat\u001b[m\u001b[m* \u001b[31mlc2fit_r_4.dat\u001b[m\u001b[m*  \u001b[31mlc2fit_v_5.dat\u001b[m\u001b[m*\n",
      "\u001b[31mlc2fit_b_12.dat\u001b[m\u001b[m* \u001b[31mlc2fit_i_13.dat\u001b[m\u001b[m* \u001b[31mlc2fit_r_5.dat\u001b[m\u001b[m*  \u001b[31mlc2fit_v_6.dat\u001b[m\u001b[m*\n",
      "\u001b[31mlc2fit_b_13.dat\u001b[m\u001b[m* \u001b[31mlc2fit_i_5.dat\u001b[m\u001b[m*  \u001b[31mlc2fit_r_6.dat\u001b[m\u001b[m*  \u001b[31mlc2fit_v_7.dat\u001b[m\u001b[m*\n",
      "\u001b[31mlc2fit_b_4.dat\u001b[m\u001b[m*  \u001b[31mlc2fit_i_6.dat\u001b[m\u001b[m*  \u001b[31mlc2fit_r_7.dat\u001b[m\u001b[m*  \u001b[31mlc2fit_v_8.dat\u001b[m\u001b[m*\n",
      "\u001b[31mlc2fit_b_5.dat\u001b[m\u001b[m*  \u001b[31mlc2fit_i_7.dat\u001b[m\u001b[m*  \u001b[31mlc2fit_r_8.dat\u001b[m\u001b[m*  \u001b[31mlightfile\u001b[m\u001b[m*\n",
      "\u001b[31mlc2fit_b_6.dat\u001b[m\u001b[m*  \u001b[31mlc2fit_i_8.dat\u001b[m\u001b[m*  \u001b[31mlc2fit_r_9.dat\u001b[m\u001b[m*\n"
     ]
    }
   ],
   "source": [
    "ls data/1999ac/"
   ]
  },
  {
   "cell_type": "code",
   "execution_count": 6,
   "id": "d3110ad9-8107-4cac-aaba-c906df1966e6",
   "metadata": {},
   "outputs": [
    {
     "data": {
      "text/plain": [
       "['data/1999aa/lc2fit_v_7.dat',\n",
       " 'data/1999aa/lc2fit_v_3.dat',\n",
       " 'data/1999aa/lc2fit_v_1.dat',\n",
       " 'data/1999aa/lc2fit_v_10.dat',\n",
       " 'data/1999aa/lc2fit_v_9.dat',\n",
       " 'data/1999aa/lc2fit_v_8.dat',\n",
       " 'data/1999ac/lc2fit_v_5.dat',\n",
       " 'data/1999ac/lc2fit_v_4.dat',\n",
       " 'data/1999ac/lc2fit_v_6.dat',\n",
       " 'data/1999ac/lc2fit_v_7.dat',\n",
       " 'data/1999ac/lc2fit_v_1.dat',\n",
       " 'data/1999ac/lc2fit_v_10.dat',\n",
       " 'data/1999ac/lc2fit_v_13.dat',\n",
       " 'data/1999ac/lc2fit_v_12.dat',\n",
       " 'data/1999ac/lc2fit_v_8.dat']"
      ]
     },
     "execution_count": 6,
     "metadata": {},
     "output_type": "execute_result"
    }
   ],
   "source": [
    "filenames=glob('data/1999aa/*v_*.dat')+glob('data/1999ac/*v_*.dat')\n",
    "filenames"
   ]
  },
  {
   "cell_type": "code",
   "execution_count": null,
   "id": "fbbb72f5-4ce5-4f91-930e-1076a0a81cda",
   "metadata": {},
   "outputs": [],
   "source": []
  }
 ],
 "metadata": {
  "kernelspec": {
   "display_name": "Python 3 (ipykernel)",
   "language": "python",
   "name": "python3"
  },
  "language_info": {
   "codemirror_mode": {
    "name": "ipython",
    "version": 3
   },
   "file_extension": ".py",
   "mimetype": "text/x-python",
   "name": "python",
   "nbconvert_exporter": "python",
   "pygments_lexer": "ipython3",
   "version": "3.8.12"
  }
 },
 "nbformat": 4,
 "nbformat_minor": 5
}
