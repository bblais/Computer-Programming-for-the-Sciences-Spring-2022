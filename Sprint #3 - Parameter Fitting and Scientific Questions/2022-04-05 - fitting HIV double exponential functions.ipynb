{
 "cells": [
  {
   "cell_type": "code",
   "execution_count": 1,
   "id": "47819011-2d1b-4117-a798-9e679ba634cc",
   "metadata": {},
   "outputs": [
    {
     "name": "stdout",
     "output_type": "stream",
     "text": [
      "Populating the interactive namespace from numpy and matplotlib\n"
     ]
    }
   ],
   "source": [
    "%pylab inline"
   ]
  },
  {
   "cell_type": "code",
   "execution_count": 2,
   "id": "3d64d656-db0e-4e21-9220-519404140de2",
   "metadata": {},
   "outputs": [
    {
     "name": "stdout",
     "output_type": "stream",
     "text": [
      "Version:  0.0.18\n"
     ]
    }
   ],
   "source": [
    "from sci378 import *"
   ]
  },
  {
   "cell_type": "code",
   "execution_count": 3,
   "id": "3311690c-51bb-4d2d-a06c-40e7b24d2bc8",
   "metadata": {},
   "outputs": [],
   "source": [
    "from lmfit import *"
   ]
  },
  {
   "cell_type": "markdown",
   "id": "65c87196-9550-4593-a8f9-80498ce9f547",
   "metadata": {},
   "source": [
    "See: https://lmfit.github.io/lmfit-py/builtin_models.html  for more examples"
   ]
  },
  {
   "cell_type": "markdown",
   "id": "d3fa90f4-3632-4775-aad9-22b37960cd90",
   "metadata": {},
   "source": [
    "## HIV\n"
   ]
  },
  {
   "cell_type": "code",
   "execution_count": 5,
   "id": "fe908700-75b5-4c11-bf1f-9042349e4941",
   "metadata": {},
   "outputs": [
    {
     "data": {
      "text/html": [
       "<div>\n",
       "<style scoped>\n",
       "    .dataframe tbody tr th:only-of-type {\n",
       "        vertical-align: middle;\n",
       "    }\n",
       "\n",
       "    .dataframe tbody tr th {\n",
       "        vertical-align: top;\n",
       "    }\n",
       "\n",
       "    .dataframe thead th {\n",
       "        text-align: right;\n",
       "    }\n",
       "</style>\n",
       "<table border=\"1\" class=\"dataframe\">\n",
       "  <thead>\n",
       "    <tr style=\"text-align: right;\">\n",
       "      <th></th>\n",
       "      <th>0</th>\n",
       "      <th>1</th>\n",
       "    </tr>\n",
       "  </thead>\n",
       "  <tbody>\n",
       "    <tr>\n",
       "      <th>0</th>\n",
       "      <td>0.0000</td>\n",
       "      <td>106100.0</td>\n",
       "    </tr>\n",
       "    <tr>\n",
       "      <th>1</th>\n",
       "      <td>0.0831</td>\n",
       "      <td>93240.0</td>\n",
       "    </tr>\n",
       "    <tr>\n",
       "      <th>2</th>\n",
       "      <td>0.1465</td>\n",
       "      <td>166720.0</td>\n",
       "    </tr>\n",
       "    <tr>\n",
       "      <th>3</th>\n",
       "      <td>0.2587</td>\n",
       "      <td>153780.0</td>\n",
       "    </tr>\n",
       "    <tr>\n",
       "      <th>4</th>\n",
       "      <td>0.4828</td>\n",
       "      <td>118800.0</td>\n",
       "    </tr>\n",
       "    <tr>\n",
       "      <th>5</th>\n",
       "      <td>0.7448</td>\n",
       "      <td>116900.0</td>\n",
       "    </tr>\n",
       "    <tr>\n",
       "      <th>6</th>\n",
       "      <td>0.9817</td>\n",
       "      <td>109570.0</td>\n",
       "    </tr>\n",
       "    <tr>\n",
       "      <th>7</th>\n",
       "      <td>1.2563</td>\n",
       "      <td>111350.0</td>\n",
       "    </tr>\n",
       "    <tr>\n",
       "      <th>8</th>\n",
       "      <td>1.4926</td>\n",
       "      <td>74388.0</td>\n",
       "    </tr>\n",
       "    <tr>\n",
       "      <th>9</th>\n",
       "      <td>1.7299</td>\n",
       "      <td>83291.0</td>\n",
       "    </tr>\n",
       "    <tr>\n",
       "      <th>10</th>\n",
       "      <td>1.9915</td>\n",
       "      <td>66435.0</td>\n",
       "    </tr>\n",
       "    <tr>\n",
       "      <th>11</th>\n",
       "      <td>3.0011</td>\n",
       "      <td>35408.0</td>\n",
       "    </tr>\n",
       "    <tr>\n",
       "      <th>12</th>\n",
       "      <td>4.0109</td>\n",
       "      <td>21125.0</td>\n",
       "    </tr>\n",
       "    <tr>\n",
       "      <th>13</th>\n",
       "      <td>5.0090</td>\n",
       "      <td>20450.0</td>\n",
       "    </tr>\n",
       "    <tr>\n",
       "      <th>14</th>\n",
       "      <td>5.9943</td>\n",
       "      <td>15798.0</td>\n",
       "    </tr>\n",
       "    <tr>\n",
       "      <th>15</th>\n",
       "      <td>7.0028</td>\n",
       "      <td>4785.2</td>\n",
       "    </tr>\n",
       "  </tbody>\n",
       "</table>\n",
       "</div>"
      ],
      "text/plain": [
       "         0         1\n",
       "0   0.0000  106100.0\n",
       "1   0.0831   93240.0\n",
       "2   0.1465  166720.0\n",
       "3   0.2587  153780.0\n",
       "4   0.4828  118800.0\n",
       "5   0.7448  116900.0\n",
       "6   0.9817  109570.0\n",
       "7   1.2563  111350.0\n",
       "8   1.4926   74388.0\n",
       "9   1.7299   83291.0\n",
       "10  1.9915   66435.0\n",
       "11  3.0011   35408.0\n",
       "12  4.0109   21125.0\n",
       "13  5.0090   20450.0\n",
       "14  5.9943   15798.0\n",
       "15  7.0028    4785.2"
      ]
     },
     "execution_count": 5,
     "metadata": {},
     "output_type": "execute_result"
    }
   ],
   "source": [
    "data=pd.read_csv(\"data/HIVseries.csv\",header=None)\n",
    "data"
   ]
  },
  {
   "cell_type": "code",
   "execution_count": 6,
   "id": "ea05935d-b86e-43ce-9c5f-93d51ec92a11",
   "metadata": {},
   "outputs": [],
   "source": [
    "x=data[0]\n",
    "y=data[1]"
   ]
  },
  {
   "cell_type": "code",
   "execution_count": 7,
   "id": "5806c032-4b75-47de-86d7-3c12af5e6499",
   "metadata": {},
   "outputs": [
    {
     "data": {
      "text/plain": [
       "[<matplotlib.lines.Line2D at 0x7f7c49ed0d60>]"
      ]
     },
     "execution_count": 7,
     "metadata": {},
     "output_type": "execute_result"
    },
    {
     "data": {
      "image/png": "[encoded data removed]",
      "text/plain": [
       "<Figure size 864x576 with 1 Axes>"
      ]
     },
     "metadata": {
      "needs_background": "light"
     },
     "output_type": "display_data"
    }
   ],
   "source": [
    "plot(x,y,'o')"
   ]
  },
  {
   "cell_type": "markdown",
   "id": "96e661b9-f8aa-4cf6-b705-3f130c086cfa",
   "metadata": {},
   "source": [
    "## Step 1 - define the function"
   ]
  },
  {
   "cell_type": "code",
   "execution_count": 9,
   "id": "949c8f07-a825-4de8-92a8-aebac5f73b7c",
   "metadata": {},
   "outputs": [],
   "source": [
    "def double_exponential(t,A=1,α=1,B=1,β=1):\n",
    "    return A*exp(-α*t)+ B*exp(-β*t)"
   ]
  },
  {
   "cell_type": "markdown",
   "id": "65bb23e8-cb71-4d50-ac46-769f8a9bbb7f",
   "metadata": {},
   "source": [
    "## Step 1a - parameter exploration"
   ]
  },
  {
   "cell_type": "code",
   "execution_count": 24,
   "id": "00a3f4a9-94fc-405e-b162-c17ada21561d",
   "metadata": {},
   "outputs": [
    {
     "data": {
      "text/plain": [
       "[<matplotlib.lines.Line2D at 0x7f7c2a0d6bb0>]"
      ]
     },
     "execution_count": 24,
     "metadata": {},
     "output_type": "execute_result"
    },
    {
     "data": {
      "image/png": "[encoded data removed]",
      "text/plain": [
       "<Figure size 864x576 with 1 Axes>"
      ]
     },
     "metadata": {
      "needs_background": "light"
     },
     "output_type": "display_data"
    }
   ],
   "source": [
    "tt=linspace(0,7,100)\n",
    "VV=double_exponential(tt,A=120000,α=1,B=60000,β=.1)\n",
    "\n",
    "plot(x,y,'o')\n",
    "plot(tt,VV,'-')"
   ]
  },
  {
   "cell_type": "markdown",
   "id": "01cecc59-8f0b-4b3a-bb50-73ccb162b7e5",
   "metadata": {},
   "source": [
    "## Step 2 - define the model and construct the parameter list"
   ]
  },
  {
   "cell_type": "code",
   "execution_count": 25,
   "id": "a36a6692-639b-49c4-9bec-ace9a3ae0e1b",
   "metadata": {},
   "outputs": [],
   "source": [
    "mymodel=Model(double_exponential)   # from lmfit"
   ]
  },
  {
   "cell_type": "code",
   "execution_count": 26,
   "id": "92165fa3-1e37-4842-b010-11d81c6426fc",
   "metadata": {},
   "outputs": [
    {
     "data": {
      "text/plain": [
       "['A', 'α', 'B', 'β']"
      ]
     },
     "execution_count": 26,
     "metadata": {},
     "output_type": "execute_result"
    }
   ],
   "source": [
    "mymodel.param_names"
   ]
  },
  {
   "cell_type": "code",
   "execution_count": 27,
   "id": "2058d6d5-b9a5-43db-82a7-0baa024900a4",
   "metadata": {},
   "outputs": [
    {
     "data": {
      "text/html": [
       "<table><tr><th> name </th><th> value </th><th> initial value </th><th> min </th><th> max </th><th> vary </th></tr><tr><td> A </td><td>  1.00000000 </td><td> None </td><td>        -inf </td><td>         inf </td><td> True </td></tr><tr><td> α </td><td>  1.00000000 </td><td> None </td><td>        -inf </td><td>         inf </td><td> True </td></tr><tr><td> B </td><td>  1.00000000 </td><td> None </td><td>        -inf </td><td>         inf </td><td> True </td></tr><tr><td> β </td><td>  1.00000000 </td><td> None </td><td>        -inf </td><td>         inf </td><td> True </td></tr></table>"
      ],
      "text/plain": [
       "Parameters([('A', <Parameter 'A', value=1, bounds=[-inf:inf]>), ('α', <Parameter 'α', value=1, bounds=[-inf:inf]>), ('B', <Parameter 'B', value=1, bounds=[-inf:inf]>), ('β', <Parameter 'β', value=1, bounds=[-inf:inf]>)])"
      ]
     },
     "execution_count": 27,
     "metadata": {},
     "output_type": "execute_result"
    }
   ],
   "source": [
    "params=mymodel.make_params()\n",
    "params"
   ]
  },
  {
   "cell_type": "markdown",
   "id": "a20a230a-a7ec-4b72-9784-9fc6d9476c97",
   "metadata": {},
   "source": [
    "## Step 3 - modify the parameter list (min, max, etc...) as needed"
   ]
  },
  {
   "cell_type": "code",
   "execution_count": 33,
   "id": "208d8f51-9837-405a-8595-576eaf0ba428",
   "metadata": {},
   "outputs": [
    {
     "data": {
      "text/html": [
       "<table><tr><th> name </th><th> value </th><th> initial value </th><th> min </th><th> max </th><th> vary </th></tr><tr><td> A </td><td>  120000.000 </td><td> 120000 </td><td>  1000.00000 </td><td>         inf </td><td> True </td></tr><tr><td> α </td><td>  1.00000000 </td><td> 1 </td><td>  0.00000000 </td><td>         inf </td><td> True </td></tr><tr><td> B </td><td>  60000.0000 </td><td> 60000 </td><td>  1000.00000 </td><td>         inf </td><td> True </td></tr><tr><td> β </td><td>  1.00000000 </td><td> 1 </td><td>  0.00000000 </td><td>         inf </td><td> True </td></tr></table>"
      ],
      "text/plain": [
       "Parameters([('A', <Parameter 'A', value=120000, bounds=[1000:inf]>), ('α', <Parameter 'α', value=1, bounds=[0:inf]>), ('B', <Parameter 'B', value=60000, bounds=[1000:inf]>), ('β', <Parameter 'β', value=1, bounds=[0:inf]>)])"
      ]
     },
     "execution_count": 33,
     "metadata": {},
     "output_type": "execute_result"
    }
   ],
   "source": [
    "params['A']=Parameter(\"A\",min=1000,value=120000)\n",
    "params['B']=Parameter(\"B\",min=1000,value=60000)\n",
    "params['α']=Parameter(\"α\",min=0,value=1)\n",
    "params['β']=Parameter(\"β\",min=0,value=1)\n",
    "params"
   ]
  },
  {
   "cell_type": "markdown",
   "id": "c3c771c0-217f-477a-8a5f-c57a211fd7b3",
   "metadata": {},
   "source": [
    "## Step 4 - do the fit, look at the parameter values (do they make sense?), etc..."
   ]
  },
  {
   "cell_type": "code",
   "execution_count": 34,
   "id": "99f9fed6-3a56-4318-a00d-3b8da14634c7",
   "metadata": {},
   "outputs": [
    {
     "data": {
      "text/html": [
       "<h2> Model</h2> Model(double_exponential) <h2>Fit Statistics</h2><table><tr><td>fitting method</td><td>leastsq</td><td></td></tr><tr><td># function evals</td><td>49</td><td></td></tr><tr><td># data points</td><td>16</td><td></td></tr><tr><td># variables</td><td>4</td><td></td></tr><tr><td>chi-square</td><td> 5.9793e+09</td><td></td></tr><tr><td>reduced chi-square</td><td> 4.9828e+08</td><td></td></tr><tr><td>Akaike info crit.</td><td> 323.823798</td><td></td></tr><tr><td>Bayesian info crit.</td><td> 326.914153</td><td></td></tr></table><h2>Variables</h2><table><tr><th> name </th><th> value </th><th> standard error </th><th> relative error </th><th> initial value </th><th> min </th><th> max </th><th> vary </th></tr><tr><td> A </td><td>  99779.6082 </td><td>  6.6383e+11 </td><td> (665296436.29%) </td><td> 120000 </td><td>  1000.00000 </td><td>         inf </td><td> True </td></tr><tr><td> α </td><td>  0.35103875 </td><td>  566.527410 </td><td> (161386.00%) </td><td> 1 </td><td>  0.00000000 </td><td>         inf </td><td> True </td></tr><tr><td> B </td><td>  39769.1075 </td><td>  6.6383e+11 </td><td> (1669210629.58%) </td><td> 60000 </td><td>  1000.00000 </td><td>         inf </td><td> True </td></tr><tr><td> β </td><td>  0.35103812 </td><td>  1520.28903 </td><td> (433083.75%) </td><td> 1 </td><td>  0.00000000 </td><td>         inf </td><td> True </td></tr></table><h2>Correlations (unreported correlations are < 0.100)</h2><table><tr><td>A</td><td>B</td><td>-1.0000</td></tr><tr><td>A</td><td>β</td><td>0.6560</td></tr><tr><td>B</td><td>β</td><td>-0.6560</td></tr><tr><td>A</td><td>α</td><td>0.5906</td></tr><tr><td>α</td><td>B</td><td>-0.5905</td></tr><tr><td>α</td><td>β</td><td>-0.2217</td></tr></table>"
      ],
      "text/plain": [
       "<lmfit.model.ModelResult at 0x7f7c2a02aa90>"
      ]
     },
     "execution_count": 34,
     "metadata": {},
     "output_type": "execute_result"
    }
   ],
   "source": [
    "result = mymodel.fit(y, params, t=x)\n",
    "result"
   ]
  },
  {
   "cell_type": "markdown",
   "id": "006a37ca-7680-4b04-9b95-7225919498cb",
   "metadata": {},
   "source": [
    "## Step 5 - plot your data and the predictions of the model"
   ]
  },
  {
   "cell_type": "code",
   "execution_count": 35,
   "id": "0da6bc09-42c0-46ce-b0bb-67fb482c1b49",
   "metadata": {},
   "outputs": [
    {
     "data": {
      "text/plain": [
       "[<matplotlib.lines.Line2D at 0x7f7c4a583f40>]"
      ]
     },
     "execution_count": 35,
     "metadata": {},
     "output_type": "execute_result"
    },
    {
     "data": {
      "image/png": "[encoded data removed]",
      "text/plain": [
       "<Figure size 864x576 with 1 Axes>"
      ]
     },
     "metadata": {
      "needs_background": "light"
     },
     "output_type": "display_data"
    }
   ],
   "source": [
    "plot(x,y,'o')\n",
    "\n",
    "tt=linspace(0,7,100)\n",
    "VV=result.eval(t=tt)\n",
    "\n",
    "plot(tt,VV,'-')\n",
    "\n"
   ]
  }
 ],
 "metadata": {
  "kernelspec": {
   "display_name": "Python 3 (ipykernel)",
   "language": "python",
   "name": "python3"
  },
  "language_info": {
   "codemirror_mode": {
    "name": "ipython",
    "version": 3
   },
   "file_extension": ".py",
   "mimetype": "text/x-python",
   "name": "python",
   "nbconvert_exporter": "python",
   "pygments_lexer": "ipython3",
   "version": "3.8.12"
  }
 },
 "nbformat": 4,
 "nbformat_minor": 5
}
