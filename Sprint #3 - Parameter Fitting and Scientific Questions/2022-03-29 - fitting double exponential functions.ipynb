{
 "cells": [
  {
   "cell_type": "code",
   "execution_count": 1,
   "id": "47819011-2d1b-4117-a798-9e679ba634cc",
   "metadata": {},
   "outputs": [
    {
     "name": "stdout",
     "output_type": "stream",
     "text": [
      "Populating the interactive namespace from numpy and matplotlib\n"
     ]
    }
   ],
   "source": [
    "%pylab inline"
   ]
  },
  {
   "cell_type": "code",
   "execution_count": 2,
   "id": "3d64d656-db0e-4e21-9220-519404140de2",
   "metadata": {},
   "outputs": [
    {
     "name": "stdout",
     "output_type": "stream",
     "text": [
      "Version:  0.0.18\n"
     ]
    }
   ],
   "source": [
    "from sci378 import *"
   ]
  },
  {
   "cell_type": "code",
   "execution_count": 3,
   "id": "3311690c-51bb-4d2d-a06c-40e7b24d2bc8",
   "metadata": {},
   "outputs": [],
   "source": [
    "from lmfit import *"
   ]
  },
  {
   "cell_type": "markdown",
   "id": "65c87196-9550-4593-a8f9-80498ce9f547",
   "metadata": {},
   "source": [
    "See: https://lmfit.github.io/lmfit-py/builtin_models.html  for more examples"
   ]
  },
  {
   "cell_type": "markdown",
   "id": "d3fa90f4-3632-4775-aad9-22b37960cd90",
   "metadata": {},
   "source": [
    "## This \"Another Data Set\" from 2022-03-24 fitting custom functions\n"
   ]
  },
  {
   "cell_type": "code",
   "execution_count": null,
   "id": "fe908700-75b5-4c11-bf1f-9042349e4941",
   "metadata": {},
   "outputs": [],
   "source": [
    "x_data,y_data=(array([0.        , 0.12820513, 0.25641026, 0.38461538, 0.51282051,\n",
    "        0.64102564, 0.76923077, 0.8974359 , 1.02564103, 1.15384615,\n",
    "        1.28205128, 1.41025641, 1.53846154, 1.66666667, 1.79487179,\n",
    "        1.92307692, 2.05128205, 2.17948718, 2.30769231, 2.43589744,\n",
    "        2.56410256, 2.69230769, 2.82051282, 2.94871795, 3.07692308,\n",
    "        3.20512821, 3.33333333, 3.46153846, 3.58974359, 3.71794872,\n",
    "        3.84615385, 3.97435897, 4.1025641 , 4.23076923, 4.35897436,\n",
    "        4.48717949, 4.61538462, 4.74358974, 4.87179487, 5.        ]),\n",
    " array([ 1.0428932 ,  0.89749902,  0.75670392,  0.64111299,  0.55718173,\n",
    "         0.52405064,  0.56088843,  0.5490807 ,  0.42480484,  0.47428914,\n",
    "         0.2934649 ,  0.34352106,  0.33185889,  0.27993667,  0.26003406,\n",
    "         0.27138304,  0.39834035,  0.28156451,  0.2572975 ,  0.27710445,\n",
    "         0.15969731,  0.22588548,  0.18106594,  0.15347512,  0.25385423,\n",
    "         0.20835157,  0.1964213 ,  0.09014651,  0.11874164,  0.14871592,\n",
    "         0.06117995,  0.19194054,  0.05546755,  0.10819372,  0.13157402,\n",
    "         0.16435838,  0.04113969, -0.03053311,  0.0710629 ,  0.08495973]))"
   ]
  },
  {
   "cell_type": "code",
   "execution_count": null,
   "id": "5806c032-4b75-47de-86d7-3c12af5e6499",
   "metadata": {},
   "outputs": [],
   "source": [
    "plot(x_data,y_data,'o')"
   ]
  },
  {
   "cell_type": "markdown",
   "id": "96e661b9-f8aa-4cf6-b705-3f130c086cfa",
   "metadata": {},
   "source": [
    "## Step 1 - define the function"
   ]
  },
  {
   "cell_type": "code",
   "execution_count": null,
   "id": "949c8f07-a825-4de8-92a8-aebac5f73b7c",
   "metadata": {},
   "outputs": [],
   "source": [
    "# def quad(x,a=1,b=1,c=1):\n",
    "#     return a*x**2 + b*x + c"
   ]
  },
  {
   "cell_type": "code",
   "execution_count": null,
   "id": "41f4cf62-f05b-4f5b-8304-57d23473adc3",
   "metadata": {},
   "outputs": [],
   "source": []
  },
  {
   "cell_type": "markdown",
   "id": "01cecc59-8f0b-4b3a-bb50-73ccb162b7e5",
   "metadata": {},
   "source": [
    "## Step 2 - define the model and construct the parameter list"
   ]
  },
  {
   "cell_type": "code",
   "execution_count": null,
   "id": "a36a6692-639b-49c4-9bec-ace9a3ae0e1b",
   "metadata": {},
   "outputs": [],
   "source": [
    "# qmodel=Model(quad)   # from lmfit"
   ]
  },
  {
   "cell_type": "code",
   "execution_count": null,
   "id": "92165fa3-1e37-4842-b010-11d81c6426fc",
   "metadata": {},
   "outputs": [],
   "source": [
    "# qmodel.param_names"
   ]
  },
  {
   "cell_type": "code",
   "execution_count": null,
   "id": "2058d6d5-b9a5-43db-82a7-0baa024900a4",
   "metadata": {},
   "outputs": [],
   "source": [
    "# params=qmodel.make_params()\n",
    "# params"
   ]
  },
  {
   "cell_type": "markdown",
   "id": "a20a230a-a7ec-4b72-9784-9fc6d9476c97",
   "metadata": {},
   "source": [
    "## Step 3 - modify the parameter list (min, max, etc...) as needed"
   ]
  },
  {
   "cell_type": "code",
   "execution_count": null,
   "id": "208d8f51-9837-405a-8595-576eaf0ba428",
   "metadata": {},
   "outputs": [],
   "source": [
    "# params['a']=Parameter(\"a\",min=0,value=0.5)"
   ]
  },
  {
   "cell_type": "markdown",
   "id": "c3c771c0-217f-477a-8a5f-c57a211fd7b3",
   "metadata": {},
   "source": [
    "## Step 4 - do the fit, look at the parameter values (do they make sense?), etc..."
   ]
  },
  {
   "cell_type": "code",
   "execution_count": null,
   "id": "99f9fed6-3a56-4318-a00d-3b8da14634c7",
   "metadata": {},
   "outputs": [],
   "source": [
    "# result = qmodel.fit(y_data, params, x=x_data)"
   ]
  },
  {
   "cell_type": "code",
   "execution_count": null,
   "id": "df013135-4ddd-4460-80cd-6fd7b1906131",
   "metadata": {},
   "outputs": [],
   "source": [
    "# result"
   ]
  },
  {
   "cell_type": "markdown",
   "id": "006a37ca-7680-4b04-9b95-7225919498cb",
   "metadata": {},
   "source": [
    "## Step 5 - plot your data and the predictions of the model"
   ]
  },
  {
   "cell_type": "code",
   "execution_count": null,
   "id": "0da6bc09-42c0-46ce-b0bb-67fb482c1b49",
   "metadata": {},
   "outputs": [],
   "source": [
    "# plot(x_data,y_data,'o')\n",
    "\n",
    "# x_fake=linspace(-12,12,100)\n",
    "# y_fake=result.eval(x=x_fake)\n",
    "# plot(x_fake,y_fake,'-')"
   ]
  },
  {
   "cell_type": "code",
   "execution_count": null,
   "id": "57bb8894-2fbd-40ba-949b-84b4f9663504",
   "metadata": {},
   "outputs": [],
   "source": []
  }
 ],
 "metadata": {
  "kernelspec": {
   "display_name": "Python 3 (ipykernel)",
   "language": "python",
   "name": "python3"
  },
  "language_info": {
   "codemirror_mode": {
    "name": "ipython",
    "version": 3
   },
   "file_extension": ".py",
   "mimetype": "text/x-python",
   "name": "python",
   "nbconvert_exporter": "python",
   "pygments_lexer": "ipython3",
   "version": "3.8.12"
  }
 },
 "nbformat": 4,
 "nbformat_minor": 5
}
