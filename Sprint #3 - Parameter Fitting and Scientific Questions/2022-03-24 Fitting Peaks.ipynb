{
 "cells": [
  {
   "cell_type": "code",
   "execution_count": 1,
   "id": "aed3d67e-e781-4052-9b82-446727a1ea1f",
   "metadata": {},
   "outputs": [
    {
     "name": "stdout",
     "output_type": "stream",
     "text": [
      "Populating the interactive namespace from numpy and matplotlib\n"
     ]
    }
   ],
   "source": [
    "%pylab inline"
   ]
  },
  {
   "cell_type": "code",
   "execution_count": 2,
   "id": "48b2f841-ce80-4351-8a63-03380bcd9fee",
   "metadata": {},
   "outputs": [
    {
     "name": "stdout",
     "output_type": "stream",
     "text": [
      "Version:  0.0.18\n"
     ]
    }
   ],
   "source": [
    "from sci378 import *\n",
    "from lmfit import *"
   ]
  },
  {
   "cell_type": "code",
   "execution_count": 3,
   "id": "f31b9610-e739-441e-b407-42ef7d1aaa8c",
   "metadata": {},
   "outputs": [],
   "source": [
    "data=pd.read_csv('data/peaks/sample0.csv')"
   ]
  },
  {
   "cell_type": "code",
   "execution_count": 4,
   "id": "486ebd8c-9872-434a-9ec1-353c9efb3d8d",
   "metadata": {},
   "outputs": [
    {
     "data": {
      "text/html": [
       "<div>\n",
       "<style scoped>\n",
       "    .dataframe tbody tr th:only-of-type {\n",
       "        vertical-align: middle;\n",
       "    }\n",
       "\n",
       "    .dataframe tbody tr th {\n",
       "        vertical-align: top;\n",
       "    }\n",
       "\n",
       "    .dataframe thead th {\n",
       "        text-align: right;\n",
       "    }\n",
       "</style>\n",
       "<table border=\"1\" class=\"dataframe\">\n",
       "  <thead>\n",
       "    <tr style=\"text-align: right;\">\n",
       "      <th></th>\n",
       "      <th>t</th>\n",
       "      <th>y</th>\n",
       "    </tr>\n",
       "  </thead>\n",
       "  <tbody>\n",
       "    <tr>\n",
       "      <th>0</th>\n",
       "      <td>0.203317</td>\n",
       "      <td>4800.0</td>\n",
       "    </tr>\n",
       "    <tr>\n",
       "      <th>1</th>\n",
       "      <td>0.206650</td>\n",
       "      <td>5017.0</td>\n",
       "    </tr>\n",
       "    <tr>\n",
       "      <th>2</th>\n",
       "      <td>0.209983</td>\n",
       "      <td>5202.0</td>\n",
       "    </tr>\n",
       "    <tr>\n",
       "      <th>3</th>\n",
       "      <td>0.213317</td>\n",
       "      <td>5361.0</td>\n",
       "    </tr>\n",
       "    <tr>\n",
       "      <th>4</th>\n",
       "      <td>0.216650</td>\n",
       "      <td>5520.0</td>\n",
       "    </tr>\n",
       "  </tbody>\n",
       "</table>\n",
       "</div>"
      ],
      "text/plain": [
       "          t       y\n",
       "0  0.203317  4800.0\n",
       "1  0.206650  5017.0\n",
       "2  0.209983  5202.0\n",
       "3  0.213317  5361.0\n",
       "4  0.216650  5520.0"
      ]
     },
     "execution_count": 4,
     "metadata": {},
     "output_type": "execute_result"
    }
   ],
   "source": [
    "data.head()"
   ]
  },
  {
   "cell_type": "code",
   "execution_count": 7,
   "id": "d570ac50-6deb-43c4-8c57-2b45e46e9a8d",
   "metadata": {},
   "outputs": [],
   "source": [
    "t=data['t']\n",
    "y=data['y']"
   ]
  },
  {
   "cell_type": "code",
   "execution_count": 8,
   "id": "a850d379-a73f-4712-aaec-af64fec7b3b9",
   "metadata": {},
   "outputs": [
    {
     "data": {
      "text/plain": [
       "[<matplotlib.lines.Line2D at 0x7fcea0766dc0>]"
      ]
     },
     "execution_count": 8,
     "metadata": {},
     "output_type": "execute_result"
    },
    {
     "data": {
      "image/png": "[encoded data removed]",
      "text/plain": [
       "<Figure size 864x576 with 1 Axes>"
      ]
     },
     "metadata": {
      "needs_background": "light"
     },
     "output_type": "display_data"
    }
   ],
   "source": [
    "plot(t,y,'o')"
   ]
  },
  {
   "cell_type": "code",
   "execution_count": 10,
   "id": "91f7cf23-fe21-495f-bcc0-61eb3dc5eb8b",
   "metadata": {},
   "outputs": [
    {
     "data": {
      "text/plain": [
       "['amplitude', 'center', 'sigma']"
      ]
     },
     "execution_count": 10,
     "metadata": {},
     "output_type": "execute_result"
    }
   ],
   "source": [
    "model=models.GaussianModel()\n",
    "model.param_names"
   ]
  },
  {
   "cell_type": "code",
   "execution_count": 11,
   "id": "803f1701-55d3-4e8f-8f9e-b7af528a477c",
   "metadata": {},
   "outputs": [
    {
     "data": {
      "text/html": [
       "<h2> Model</h2> Model(gaussian) <h2>Fit Statistics</h2><table><tr><td>fitting method</td><td>leastsq</td><td></td></tr><tr><td># function evals</td><td>53</td><td></td></tr><tr><td># data points</td><td>540</td><td></td></tr><tr><td># variables</td><td>3</td><td></td></tr><tr><td>chi-square</td><td> 1.3435e+13</td><td></td></tr><tr><td>reduced chi-square</td><td> 2.5018e+10</td><td></td></tr><tr><td>Akaike info crit.</td><td> 12932.1378</td><td></td></tr><tr><td>Bayesian info crit.</td><td> 12945.0125</td><td></td></tr></table><h2>Variables</h2><table><tr><th> name </th><th> value </th><th> standard error </th><th> relative error </th><th> initial value </th><th> min </th><th> max </th><th> vary </th><th> expression </th></tr><tr><td> amplitude </td><td>  1418780.95 </td><td>  4100.73718 </td><td> (0.29%) </td><td> 10000000.0 </td><td>        -inf </td><td>         inf </td><td> True </td><td>  </td></tr><tr><td> center </td><td>  1.12191094 </td><td>  1.2656e-04 </td><td> (0.01%) </td><td> 1 </td><td>        -inf </td><td>         inf </td><td> True </td><td>  </td></tr><tr><td> sigma </td><td>  0.03792263 </td><td>  1.2657e-04 </td><td> (0.33%) </td><td> 1 </td><td>  0.00000000 </td><td>         inf </td><td> True </td><td>  </td></tr><tr><td> fwhm </td><td>  0.08930096 </td><td>  2.9804e-04 </td><td> (0.33%) </td><td> 2.35482 </td><td>        -inf </td><td>         inf </td><td> False </td><td> 2.3548200*sigma </td></tr><tr><td> height </td><td>  14925436.0 </td><td>  43139.3453 </td><td> (0.29%) </td><td> 3989423.0000000005 </td><td>        -inf </td><td>         inf </td><td> False </td><td> 0.3989423*amplitude/max(1e-15, sigma) </td></tr></table><h2>Correlations (unreported correlations are < 0.100)</h2><table><tr><td>amplitude</td><td>sigma</td><td>0.5774</td></tr></table>"
      ],
      "text/plain": [
       "<lmfit.model.ModelResult at 0x7fce80924940>"
      ]
     },
     "execution_count": 11,
     "metadata": {},
     "output_type": "execute_result"
    }
   ],
   "source": [
    "results=model.fit(y,x=t,amplitude=1e7,center=1,sigma=1)\n",
    "results"
   ]
  },
  {
   "cell_type": "code",
   "execution_count": 12,
   "id": "36b76173-b405-4a3b-9d9e-73b6f80f0c52",
   "metadata": {},
   "outputs": [
    {
     "data": {
      "text/plain": [
       "(0.9, 1.3)"
      ]
     },
     "execution_count": 12,
     "metadata": {},
     "output_type": "execute_result"
    },
    {
     "data": {
      "image/png": "[encoded data removed]",
      "text/plain": [
       "<Figure size 864x576 with 1 Axes>"
      ]
     },
     "metadata": {
      "needs_background": "light"
     },
     "output_type": "display_data"
    }
   ],
   "source": [
    "x_fake=linspace(0,2,2000)\n",
    "y_fake=results.eval(x=x_fake)\n",
    "plot(t,y,'o')\n",
    "plot(x_fake,y_fake,'-')\n",
    "xlim([.9,1.3])"
   ]
  },
  {
   "cell_type": "code",
   "execution_count": 13,
   "id": "5ba59e18-4d4b-473c-8cf3-df541d429f67",
   "metadata": {},
   "outputs": [
    {
     "data": {
      "text/plain": [
       "{'amplitude': 1418780.9522041704,\n",
       " 'center': 1.121910943004096,\n",
       " 'sigma': 0.037922626718622565}"
      ]
     },
     "execution_count": 13,
     "metadata": {},
     "output_type": "execute_result"
    }
   ],
   "source": [
    "results.best_values"
   ]
  },
  {
   "cell_type": "markdown",
   "id": "ec6808e7-d768-4882-b384-ace2ccd8039f",
   "metadata": {},
   "source": [
    "## You can get individual parameters by name"
   ]
  },
  {
   "cell_type": "code",
   "execution_count": 14,
   "id": "add08161-3a21-4bee-9290-56a9c19ed982",
   "metadata": {},
   "outputs": [
    {
     "data": {
      "text/plain": [
       "1418780.9522041704"
      ]
     },
     "execution_count": 14,
     "metadata": {},
     "output_type": "execute_result"
    }
   ],
   "source": [
    "A=results.params['amplitude'].value\n",
    "A"
   ]
  },
  {
   "cell_type": "markdown",
   "id": "f7932bef-d76d-4343-ab52-f375170240ad",
   "metadata": {},
   "source": [
    "## Now your turn - Goal: find the amplitudes for all of the peaks for the data in the peaks folder"
   ]
  },
  {
   "cell_type": "code",
   "execution_count": null,
   "id": "cb9bef4a-5961-4ddc-b38b-b941bb5b2853",
   "metadata": {},
   "outputs": [],
   "source": []
  }
 ],
 "metadata": {
  "kernelspec": {
   "display_name": "Python 3 (ipykernel)",
   "language": "python",
   "name": "python3"
  },
  "language_info": {
   "codemirror_mode": {
    "name": "ipython",
    "version": 3
   },
   "file_extension": ".py",
   "mimetype": "text/x-python",
   "name": "python",
   "nbconvert_exporter": "python",
   "pygments_lexer": "ipython3",
   "version": "3.8.12"
  }
 },
 "nbformat": 4,
 "nbformat_minor": 5
}
