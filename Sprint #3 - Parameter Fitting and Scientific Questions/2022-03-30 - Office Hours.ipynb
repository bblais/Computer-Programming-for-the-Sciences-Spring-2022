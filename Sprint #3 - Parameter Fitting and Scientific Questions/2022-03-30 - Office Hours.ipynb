{
 "cells": [
  {
   "cell_type": "code",
   "execution_count": 1,
   "id": "f877148d-7209-4312-9683-7f58d1976bce",
   "metadata": {},
   "outputs": [
    {
     "name": "stdout",
     "output_type": "stream",
     "text": [
      "Populating the interactive namespace from numpy and matplotlib\n"
     ]
    }
   ],
   "source": [
    "%pylab inline"
   ]
  },
  {
   "cell_type": "code",
   "execution_count": 2,
   "id": "b1914991-21bc-498c-bf97-3a5f976f3806",
   "metadata": {},
   "outputs": [
    {
     "name": "stdout",
     "output_type": "stream",
     "text": [
      "Version:  0.0.18\n"
     ]
    }
   ],
   "source": [
    "from sci378 import *"
   ]
  },
  {
   "cell_type": "code",
   "execution_count": 3,
   "id": "446d015a-300f-432b-b4e1-300d491a0288",
   "metadata": {},
   "outputs": [],
   "source": [
    "from lmfit import *"
   ]
  },
  {
   "cell_type": "code",
   "execution_count": 6,
   "id": "8fc34e77-2d7c-439c-b240-86c982273e20",
   "metadata": {},
   "outputs": [
    {
     "data": {
      "text/html": [
       "<div>\n",
       "<style scoped>\n",
       "    .dataframe tbody tr th:only-of-type {\n",
       "        vertical-align: middle;\n",
       "    }\n",
       "\n",
       "    .dataframe tbody tr th {\n",
       "        vertical-align: top;\n",
       "    }\n",
       "\n",
       "    .dataframe thead th {\n",
       "        text-align: right;\n",
       "    }\n",
       "</style>\n",
       "<table border=\"1\" class=\"dataframe\">\n",
       "  <thead>\n",
       "    <tr style=\"text-align: right;\">\n",
       "      <th></th>\n",
       "      <th>t</th>\n",
       "      <th>y</th>\n",
       "    </tr>\n",
       "  </thead>\n",
       "  <tbody>\n",
       "    <tr>\n",
       "      <th>0</th>\n",
       "      <td>0.000000</td>\n",
       "      <td>6.806173</td>\n",
       "    </tr>\n",
       "    <tr>\n",
       "      <th>1</th>\n",
       "      <td>2.631579</td>\n",
       "      <td>273.685873</td>\n",
       "    </tr>\n",
       "    <tr>\n",
       "      <th>2</th>\n",
       "      <td>5.263158</td>\n",
       "      <td>310.427226</td>\n",
       "    </tr>\n",
       "    <tr>\n",
       "      <th>3</th>\n",
       "      <td>7.894737</td>\n",
       "      <td>323.891698</td>\n",
       "    </tr>\n",
       "    <tr>\n",
       "      <th>4</th>\n",
       "      <td>10.526316</td>\n",
       "      <td>320.378543</td>\n",
       "    </tr>\n",
       "    <tr>\n",
       "      <th>5</th>\n",
       "      <td>13.157895</td>\n",
       "      <td>321.985440</td>\n",
       "    </tr>\n",
       "    <tr>\n",
       "      <th>6</th>\n",
       "      <td>15.789474</td>\n",
       "      <td>358.587492</td>\n",
       "    </tr>\n",
       "    <tr>\n",
       "      <th>7</th>\n",
       "      <td>18.421053</td>\n",
       "      <td>337.898962</td>\n",
       "    </tr>\n",
       "    <tr>\n",
       "      <th>8</th>\n",
       "      <td>21.052632</td>\n",
       "      <td>325.333698</td>\n",
       "    </tr>\n",
       "    <tr>\n",
       "      <th>9</th>\n",
       "      <td>23.684211</td>\n",
       "      <td>363.621014</td>\n",
       "    </tr>\n",
       "    <tr>\n",
       "      <th>10</th>\n",
       "      <td>26.315789</td>\n",
       "      <td>339.064436</td>\n",
       "    </tr>\n",
       "    <tr>\n",
       "      <th>11</th>\n",
       "      <td>28.947368</td>\n",
       "      <td>387.216443</td>\n",
       "    </tr>\n",
       "    <tr>\n",
       "      <th>12</th>\n",
       "      <td>31.578947</td>\n",
       "      <td>361.444470</td>\n",
       "    </tr>\n",
       "    <tr>\n",
       "      <th>13</th>\n",
       "      <td>34.210526</td>\n",
       "      <td>335.523264</td>\n",
       "    </tr>\n",
       "    <tr>\n",
       "      <th>14</th>\n",
       "      <td>36.842105</td>\n",
       "      <td>382.142722</td>\n",
       "    </tr>\n",
       "    <tr>\n",
       "      <th>15</th>\n",
       "      <td>39.473684</td>\n",
       "      <td>308.619871</td>\n",
       "    </tr>\n",
       "    <tr>\n",
       "      <th>16</th>\n",
       "      <td>42.105263</td>\n",
       "      <td>313.873978</td>\n",
       "    </tr>\n",
       "    <tr>\n",
       "      <th>17</th>\n",
       "      <td>44.736842</td>\n",
       "      <td>341.959174</td>\n",
       "    </tr>\n",
       "    <tr>\n",
       "      <th>18</th>\n",
       "      <td>47.368421</td>\n",
       "      <td>327.780887</td>\n",
       "    </tr>\n",
       "    <tr>\n",
       "      <th>19</th>\n",
       "      <td>50.000000</td>\n",
       "      <td>335.511982</td>\n",
       "    </tr>\n",
       "  </tbody>\n",
       "</table>\n",
       "</div>"
      ],
      "text/plain": [
       "            t           y\n",
       "0    0.000000    6.806173\n",
       "1    2.631579  273.685873\n",
       "2    5.263158  310.427226\n",
       "3    7.894737  323.891698\n",
       "4   10.526316  320.378543\n",
       "5   13.157895  321.985440\n",
       "6   15.789474  358.587492\n",
       "7   18.421053  337.898962\n",
       "8   21.052632  325.333698\n",
       "9   23.684211  363.621014\n",
       "10  26.315789  339.064436\n",
       "11  28.947368  387.216443\n",
       "12  31.578947  361.444470\n",
       "13  34.210526  335.523264\n",
       "14  36.842105  382.142722\n",
       "15  39.473684  308.619871\n",
       "16  42.105263  313.873978\n",
       "17  44.736842  341.959174\n",
       "18  47.368421  327.780887\n",
       "19  50.000000  335.511982"
      ]
     },
     "execution_count": 6,
     "metadata": {},
     "output_type": "execute_result"
    }
   ],
   "source": [
    "data=pd.read_csv('data/logistic_sample_data/logistic_sample_data_9.csv')\n",
    "data"
   ]
  },
  {
   "cell_type": "code",
   "execution_count": 7,
   "id": "6285656e-743c-4c24-9c31-d45690ee1471",
   "metadata": {},
   "outputs": [],
   "source": [
    "t=data['t']\n",
    "y=data['y']"
   ]
  },
  {
   "cell_type": "code",
   "execution_count": 8,
   "id": "6dc6fd02-18c0-47c5-8567-3e0779df9a56",
   "metadata": {},
   "outputs": [
    {
     "data": {
      "text/plain": [
       "[<matplotlib.lines.Line2D at 0x7f9f6001e460>]"
      ]
     },
     "execution_count": 8,
     "metadata": {},
     "output_type": "execute_result"
    },
    {
     "data": {
      "image/png": "[encoded data removed]",
      "text/plain": [
       "<Figure size 864x576 with 1 Axes>"
      ]
     },
     "metadata": {
      "needs_background": "light"
     },
     "output_type": "display_data"
    }
   ],
   "source": [
    "plot(t,y,'o')"
   ]
  },
  {
   "cell_type": "code",
   "execution_count": 9,
   "id": "c146c6e4-8e9e-4f50-8b0e-ff4b15ccbfe3",
   "metadata": {},
   "outputs": [],
   "source": [
    "def f(x,a,b,c,d):\n",
    "    return a/(1+exp(-c*(x-d)))+b"
   ]
  },
  {
   "cell_type": "code",
   "execution_count": 23,
   "id": "5d2ba225-dfcf-4bae-a266-5b3f17d326b7",
   "metadata": {},
   "outputs": [
    {
     "data": {
      "text/plain": [
       "[<matplotlib.lines.Line2D at 0x7f9fe19e29a0>]"
      ]
     },
     "execution_count": 23,
     "metadata": {},
     "output_type": "execute_result"
    },
    {
     "data": {
      "image/png": "[encoded data removed]",
      "text/plain": [
       "<Figure size 864x576 with 1 Axes>"
      ]
     },
     "metadata": {
      "needs_background": "light"
     },
     "output_type": "display_data"
    }
   ],
   "source": [
    "xx=linspace(0,50,1000)\n",
    "yy=f(xx,a=600,b=0.5,c=20,d=0.5)\n",
    "\n",
    "plot(t,y,'o')\n",
    "plot(xx,yy,'-')"
   ]
  },
  {
   "cell_type": "markdown",
   "id": "d765f66a-ddcc-48ad-82a1-4b7e9dca4ba6",
   "metadata": {},
   "source": [
    "## arccotagent"
   ]
  },
  {
   "cell_type": "code",
   "execution_count": 20,
   "id": "916f07a6-635c-4ea0-ab24-e337ee2613e0",
   "metadata": {},
   "outputs": [
    {
     "data": {
      "text/plain": [
       "0.8960553845713439"
      ]
     },
     "execution_count": 20,
     "metadata": {},
     "output_type": "execute_result"
    }
   ],
   "source": [
    "arctan2(5,4)  # y=5, x=4"
   ]
  },
  {
   "cell_type": "code",
   "execution_count": 19,
   "id": "cce60ea3-1fdd-4ca4-8ea5-f3600a2fb973",
   "metadata": {},
   "outputs": [
    {
     "data": {
      "text/plain": [
       "0.6747409422235526"
      ]
     },
     "execution_count": 19,
     "metadata": {},
     "output_type": "execute_result"
    }
   ],
   "source": [
    "arctan2(4,5)  # this is the arc cotangent"
   ]
  },
  {
   "cell_type": "markdown",
   "id": "dacd0876-71d0-4658-9003-b5f17a986229",
   "metadata": {},
   "source": [
    "compare with https://www.wolframalpha.com/input?i=arccot%285%2F4%29"
   ]
  },
  {
   "cell_type": "code",
   "execution_count": null,
   "id": "ca21f78d-0eb4-4975-b8ba-73e939af9585",
   "metadata": {},
   "outputs": [],
   "source": []
  }
 ],
 "metadata": {
  "kernelspec": {
   "display_name": "Python 3 (ipykernel)",
   "language": "python",
   "name": "python3"
  },
  "language_info": {
   "codemirror_mode": {
    "name": "ipython",
    "version": 3
   },
   "file_extension": ".py",
   "mimetype": "text/x-python",
   "name": "python",
   "nbconvert_exporter": "python",
   "pygments_lexer": "ipython3",
   "version": "3.8.12"
  }
 },
 "nbformat": 4,
 "nbformat_minor": 5
}
