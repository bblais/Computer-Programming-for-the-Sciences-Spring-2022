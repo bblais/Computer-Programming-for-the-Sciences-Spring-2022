{
 "cells": [
  {
   "cell_type": "code",
   "execution_count": 1,
   "id": "47819011-2d1b-4117-a798-9e679ba634cc",
   "metadata": {},
   "outputs": [
    {
     "name": "stdout",
     "output_type": "stream",
     "text": [
      "Populating the interactive namespace from numpy and matplotlib\n"
     ]
    }
   ],
   "source": [
    "%pylab inline"
   ]
  },
  {
   "cell_type": "code",
   "execution_count": 2,
   "id": "3d64d656-db0e-4e21-9220-519404140de2",
   "metadata": {},
   "outputs": [
    {
     "name": "stdout",
     "output_type": "stream",
     "text": [
      "Version:  0.0.18\n"
     ]
    }
   ],
   "source": [
    "from sci378 import *"
   ]
  },
  {
   "cell_type": "code",
   "execution_count": 3,
   "id": "3311690c-51bb-4d2d-a06c-40e7b24d2bc8",
   "metadata": {},
   "outputs": [],
   "source": [
    "from lmfit import *"
   ]
  },
  {
   "cell_type": "markdown",
   "id": "65c87196-9550-4593-a8f9-80498ce9f547",
   "metadata": {},
   "source": [
    "See: https://lmfit.github.io/lmfit-py/builtin_models.html  for more examples"
   ]
  },
  {
   "cell_type": "code",
   "execution_count": 4,
   "id": "fe908700-75b5-4c11-bf1f-9042349e4941",
   "metadata": {},
   "outputs": [],
   "source": [
    "x_data,y_data=(array([-10.        ,  -8.94736842,  -7.89473684,  -6.84210526,\n",
    "         -5.78947368,  -4.73684211,  -3.68421053,  -2.63157895,\n",
    "         -1.57894737,  -0.52631579,   0.52631579,   1.57894737,\n",
    "          2.63157895,   3.68421053,   4.73684211,   5.78947368,\n",
    "          6.84210526,   7.89473684,   8.94736842,  10.        ]),\n",
    " array([ 84.5439605 ,  79.96429095,  53.29446178,  15.49595419,\n",
    "         55.59294258,  57.74976334, -17.47795207,  19.03107704,\n",
    "        -31.19976545, -10.54910001,  17.56865009,   5.42434731,\n",
    "         -9.60203555,  21.4654494 ,  44.94972133,   6.80172884,\n",
    "         62.75223289,  58.16212626, 111.04251023,  83.52494712]))"
   ]
  },
  {
   "cell_type": "code",
   "execution_count": 5,
   "id": "5806c032-4b75-47de-86d7-3c12af5e6499",
   "metadata": {},
   "outputs": [
    {
     "data": {
      "text/plain": [
       "[<matplotlib.lines.Line2D at 0x7fdeca2e8520>]"
      ]
     },
     "execution_count": 5,
     "metadata": {},
     "output_type": "execute_result"
    },
    {
     "data": {
      "image/png": "[encoded data removed]",
      "text/plain": [
       "<Figure size 864x576 with 1 Axes>"
      ]
     },
     "metadata": {
      "needs_background": "light"
     },
     "output_type": "display_data"
    }
   ],
   "source": [
    "plot(x_data,y_data,'o')"
   ]
  },
  {
   "cell_type": "markdown",
   "id": "96e661b9-f8aa-4cf6-b705-3f130c086cfa",
   "metadata": {},
   "source": [
    "## Step 1 - define the function"
   ]
  },
  {
   "cell_type": "code",
   "execution_count": 6,
   "id": "949c8f07-a825-4de8-92a8-aebac5f73b7c",
   "metadata": {},
   "outputs": [],
   "source": [
    "def quad(x,a=1,b=1,c=1):\n",
    "    return a*x**2 + b*x + c"
   ]
  },
  {
   "cell_type": "code",
   "execution_count": null,
   "id": "41f4cf62-f05b-4f5b-8304-57d23473adc3",
   "metadata": {},
   "outputs": [],
   "source": []
  },
  {
   "cell_type": "markdown",
   "id": "01cecc59-8f0b-4b3a-bb50-73ccb162b7e5",
   "metadata": {},
   "source": [
    "## Step 2 - define the model and construct the parameter list"
   ]
  },
  {
   "cell_type": "code",
   "execution_count": 7,
   "id": "a36a6692-639b-49c4-9bec-ace9a3ae0e1b",
   "metadata": {},
   "outputs": [],
   "source": [
    "qmodel=Model(quad)   # from lmfit"
   ]
  },
  {
   "cell_type": "code",
   "execution_count": 8,
   "id": "92165fa3-1e37-4842-b010-11d81c6426fc",
   "metadata": {},
   "outputs": [
    {
     "data": {
      "text/plain": [
       "['a', 'b', 'c']"
      ]
     },
     "execution_count": 8,
     "metadata": {},
     "output_type": "execute_result"
    }
   ],
   "source": [
    "qmodel.param_names"
   ]
  },
  {
   "cell_type": "code",
   "execution_count": 9,
   "id": "2058d6d5-b9a5-43db-82a7-0baa024900a4",
   "metadata": {},
   "outputs": [
    {
     "data": {
      "text/html": [
       "<table><tr><th> name </th><th> value </th><th> initial value </th><th> min </th><th> max </th><th> vary </th></tr><tr><td> a </td><td>  1.00000000 </td><td> None </td><td>        -inf </td><td>         inf </td><td> True </td></tr><tr><td> b </td><td>  1.00000000 </td><td> None </td><td>        -inf </td><td>         inf </td><td> True </td></tr><tr><td> c </td><td>  1.00000000 </td><td> None </td><td>        -inf </td><td>         inf </td><td> True </td></tr></table>"
      ],
      "text/plain": [
       "Parameters([('a', <Parameter 'a', value=1, bounds=[-inf:inf]>), ('b', <Parameter 'b', value=1, bounds=[-inf:inf]>), ('c', <Parameter 'c', value=1, bounds=[-inf:inf]>)])"
      ]
     },
     "execution_count": 9,
     "metadata": {},
     "output_type": "execute_result"
    }
   ],
   "source": [
    "params=qmodel.make_params()\n",
    "params"
   ]
  },
  {
   "cell_type": "markdown",
   "id": "a20a230a-a7ec-4b72-9784-9fc6d9476c97",
   "metadata": {},
   "source": [
    "## Step 3 - modify the parameter list (min, max, etc...) as needed"
   ]
  },
  {
   "cell_type": "code",
   "execution_count": 10,
   "id": "208d8f51-9837-405a-8595-576eaf0ba428",
   "metadata": {},
   "outputs": [],
   "source": [
    "params['a']=Parameter(\"a\",min=0,value=0.5)"
   ]
  },
  {
   "cell_type": "markdown",
   "id": "c3c771c0-217f-477a-8a5f-c57a211fd7b3",
   "metadata": {},
   "source": [
    "## Step 4 - do the fit, look at the parameter values (do they make sense?), etc..."
   ]
  },
  {
   "cell_type": "code",
   "execution_count": 13,
   "id": "99f9fed6-3a56-4318-a00d-3b8da14634c7",
   "metadata": {},
   "outputs": [],
   "source": [
    "result = qmodel.fit(y_data, params, x=x_data,method=\"powell\")"
   ]
  },
  {
   "cell_type": "code",
   "execution_count": 14,
   "id": "df013135-4ddd-4460-80cd-6fd7b1906131",
   "metadata": {},
   "outputs": [
    {
     "data": {
      "text/html": [
       "<h2> Model</h2> Model(quad) <h2>Fit Statistics</h2><table><tr><td>fitting method</td><td>Powell</td><td></td></tr><tr><td># function evals</td><td>138</td><td></td></tr><tr><td># data points</td><td>20</td><td></td></tr><tr><td># variables</td><td>3</td><td></td></tr><tr><td>chi-square</td><td> 8465.97342</td><td></td></tr><tr><td>reduced chi-square</td><td> 497.998437</td><td></td></tr><tr><td>Akaike info crit.</td><td> 126.961560</td><td></td></tr><tr><td>Bayesian info crit.</td><td> 129.948757</td><td></td></tr></table><h2>Variables</h2><table><tr><th> name </th><th> value </th><th> standard error </th><th> relative error </th><th> initial value </th><th> min </th><th> max </th><th> vary </th></tr><tr><td> a </td><td>  0.97692294 </td><td>  0.15200151 </td><td> (15.56%) </td><td> 0.5 </td><td>  0.00000000 </td><td>         inf </td><td> True </td></tr><tr><td> b </td><td>  0.57988548 </td><td>  0.82210398 </td><td> (141.77%) </td><td> 1 </td><td>        -inf </td><td>         inf </td><td> True </td></tr><tr><td> c </td><td> -0.56513220 </td><td>  7.50069174 </td><td> (1327.25%) </td><td> 1 </td><td>        -inf </td><td>         inf </td><td> True </td></tr></table><h2>Correlations (unreported correlations are < 0.100)</h2><table><tr><td>a</td><td>c</td><td>-0.7466</td></tr></table>"
      ],
      "text/plain": [
       "<lmfit.model.ModelResult at 0x7fdeca385d00>"
      ]
     },
     "execution_count": 14,
     "metadata": {},
     "output_type": "execute_result"
    }
   ],
   "source": [
    "result"
   ]
  },
  {
   "cell_type": "markdown",
   "id": "006a37ca-7680-4b04-9b95-7225919498cb",
   "metadata": {},
   "source": [
    "## Step 5 - plot your data and the predictions of the model"
   ]
  },
  {
   "cell_type": "code",
   "execution_count": 15,
   "id": "8b524d05-e73e-46d6-a7b0-d5550e8dc0e9",
   "metadata": {},
   "outputs": [
    {
     "data": {
      "text/plain": [
       "(array([-12.        , -10.73684211,  -9.47368421,  -8.21052632,\n",
       "         -6.94736842,  -5.68421053,  -4.42105263,  -3.15789474,\n",
       "         -1.89473684,  -0.63157895,   0.63157895,   1.89473684,\n",
       "          3.15789474,   4.42105263,   5.68421053,   6.94736842,\n",
       "          8.21052632,   9.47368421,  10.73684211,  12.        ]),\n",
       " array([-137.4       , -110.79390582,  -87.0598338 ,  -66.19778393,\n",
       "         -48.20775623,  -33.08975069,  -20.84376731,  -11.46980609,\n",
       "          -4.96786704,   -1.33795014,   -0.5800554 ,   -2.69418283,\n",
       "          -7.68033241,  -15.53850416,  -26.26869806,  -39.87091413,\n",
       "         -56.34515235,  -75.69141274,  -97.90969529, -123.        ]))"
      ]
     },
     "execution_count": 15,
     "metadata": {},
     "output_type": "execute_result"
    }
   ],
   "source": [
    "x2=linspace(-12,12,20)\n",
    "y2=-.9*x2**2+.6*x2-.6\n",
    "x2,y2"
   ]
  },
  {
   "cell_type": "code",
   "execution_count": 16,
   "id": "59c8acb6-6a1e-4da5-9112-8ae1de6c6d38",
   "metadata": {},
   "outputs": [
    {
     "data": {
      "text/plain": [
       "[<matplotlib.lines.Line2D at 0x7f986a9de340>]"
      ]
     },
     "execution_count": 16,
     "metadata": {},
     "output_type": "execute_result"
    },
    {
     "data": {
      "image/png": "[encoded data removed]",
      "text/plain": [
       "<Figure size 864x576 with 1 Axes>"
      ]
     },
     "metadata": {
      "needs_background": "light"
     },
     "output_type": "display_data"
    }
   ],
   "source": [
    "plot(x2,y2,'o')"
   ]
  },
  {
   "cell_type": "code",
   "execution_count": 17,
   "id": "9feb3245-7dca-4ab5-b63c-2223e8eebdb2",
   "metadata": {},
   "outputs": [
    {
     "data": {
      "text/plain": [
       "[<matplotlib.lines.Line2D at 0x7f98a86b7a90>]"
      ]
     },
     "execution_count": 17,
     "metadata": {},
     "output_type": "execute_result"
    },
    {
     "data": {
      "image/png": "[encoded data removed]",
      "text/plain": [
       "<Figure size 864x576 with 1 Axes>"
      ]
     },
     "metadata": {
      "needs_background": "light"
     },
     "output_type": "display_data"
    }
   ],
   "source": [
    "x2=linspace(-12,12,200)\n",
    "y2=-.9*x2**2+.6*x2-.6\n",
    "plot(x2,y2,'-')"
   ]
  },
  {
   "cell_type": "code",
   "execution_count": null,
   "id": "99fc7861-c4d0-48a2-a934-37c99190f01c",
   "metadata": {},
   "outputs": [],
   "source": []
  },
  {
   "cell_type": "code",
   "execution_count": 23,
   "id": "0da6bc09-42c0-46ce-b0bb-67fb482c1b49",
   "metadata": {},
   "outputs": [
    {
     "data": {
      "text/plain": [
       "[<matplotlib.lines.Line2D at 0x7f8a8815d550>]"
      ]
     },
     "execution_count": 23,
     "metadata": {},
     "output_type": "execute_result"
    },
    {
     "data": {
      "image/png": "[encoded data removed]",
      "text/plain": [
       "<Figure size 864x576 with 1 Axes>"
      ]
     },
     "metadata": {
      "needs_background": "light"
     },
     "output_type": "display_data"
    }
   ],
   "source": [
    "plot(x_data,y_data,'o')\n",
    "\n",
    "x_fake=linspace(-12,12,100)\n",
    "y_fake=result.eval(x=x_fake)\n",
    "plot(x_fake,y_fake,'-')"
   ]
  },
  {
   "cell_type": "markdown",
   "id": "c6106a63-6ce9-46bd-9455-7889df723ffc",
   "metadata": {},
   "source": [
    "## Sometimes the function already exists in lmfit - but might have different names for parameters\n",
    "\n",
    "https://lmfit.github.io/lmfit-py/builtin_models.html"
   ]
  },
  {
   "cell_type": "code",
   "execution_count": 24,
   "id": "325a66f7-3a48-4ee8-9e6b-944793a9539d",
   "metadata": {},
   "outputs": [],
   "source": [
    "qmodel=models.QuadraticModel()"
   ]
  },
  {
   "cell_type": "code",
   "execution_count": 25,
   "id": "d4441451-ab75-4e96-9ed6-066d444dd0f5",
   "metadata": {},
   "outputs": [
    {
     "data": {
      "text/plain": [
       "['a', 'b', 'c']"
      ]
     },
     "execution_count": 25,
     "metadata": {},
     "output_type": "execute_result"
    }
   ],
   "source": [
    "qmodel.param_names"
   ]
  },
  {
   "cell_type": "code",
   "execution_count": 26,
   "id": "959fab4f-7942-4565-b32b-ed3fa8173cd2",
   "metadata": {},
   "outputs": [],
   "source": [
    "params=qmodel.make_params()"
   ]
  },
  {
   "cell_type": "code",
   "execution_count": 27,
   "id": "fd23e22c-f731-4a3c-bed6-577273041318",
   "metadata": {},
   "outputs": [],
   "source": [
    "result = qmodel.fit(y_data, params, x=x_data)"
   ]
  },
  {
   "cell_type": "code",
   "execution_count": 28,
   "id": "8f5d0e5b-810b-4e5b-833a-54b87b859934",
   "metadata": {},
   "outputs": [
    {
     "data": {
      "text/plain": [
       "[<matplotlib.lines.Line2D at 0x7f8aa85b6d90>]"
      ]
     },
     "execution_count": 28,
     "metadata": {},
     "output_type": "execute_result"
    },
    {
     "data": {
      "image/png": "[encoded data removed]",
      "text/plain": [
       "<Figure size 864x576 with 1 Axes>"
      ]
     },
     "metadata": {
      "needs_background": "light"
     },
     "output_type": "display_data"
    }
   ],
   "source": [
    "plot(x_data,y_data,'o')\n",
    "\n",
    "x_fake=linspace(-12,12,100)\n",
    "y_fake=result.eval(x=x_fake)\n",
    "plot(x_fake,y_fake,'-')"
   ]
  },
  {
   "cell_type": "code",
   "execution_count": null,
   "id": "fc7131a4-313b-42a3-a6f6-57431a59f755",
   "metadata": {},
   "outputs": [],
   "source": []
  },
  {
   "cell_type": "markdown",
   "id": "7f17a1b4-91d2-4017-8213-8d1c3e76dfa7",
   "metadata": {},
   "source": [
    "## random population file"
   ]
  },
  {
   "cell_type": "code",
   "execution_count": 9,
   "id": "a50f9b4c-5083-4e2c-bc22-f1aa9d46bd2f",
   "metadata": {},
   "outputs": [
    {
     "data": {
      "text/html": [
       "<div>\n",
       "<style scoped>\n",
       "    .dataframe tbody tr th:only-of-type {\n",
       "        vertical-align: middle;\n",
       "    }\n",
       "\n",
       "    .dataframe tbody tr th {\n",
       "        vertical-align: top;\n",
       "    }\n",
       "\n",
       "    .dataframe thead th {\n",
       "        text-align: right;\n",
       "    }\n",
       "</style>\n",
       "<table border=\"1\" class=\"dataframe\">\n",
       "  <thead>\n",
       "    <tr style=\"text-align: right;\">\n",
       "      <th></th>\n",
       "      <th>year</th>\n",
       "      <th>population (millions)</th>\n",
       "      <th>source</th>\n",
       "    </tr>\n",
       "  </thead>\n",
       "  <tbody>\n",
       "    <tr>\n",
       "      <th>0</th>\n",
       "      <td>1700.0</td>\n",
       "      <td>5.835</td>\n",
       "      <td>Griffith</td>\n",
       "    </tr>\n",
       "    <tr>\n",
       "      <th>1</th>\n",
       "      <td>1710.0</td>\n",
       "      <td>6.013</td>\n",
       "      <td>Griffith</td>\n",
       "    </tr>\n",
       "    <tr>\n",
       "      <th>2</th>\n",
       "      <td>1720.0</td>\n",
       "      <td>6.048</td>\n",
       "      <td>Griffith</td>\n",
       "    </tr>\n",
       "    <tr>\n",
       "      <th>3</th>\n",
       "      <td>1730.0</td>\n",
       "      <td>6.008</td>\n",
       "      <td>Griffith</td>\n",
       "    </tr>\n",
       "    <tr>\n",
       "      <th>4</th>\n",
       "      <td>1740.0</td>\n",
       "      <td>6.013</td>\n",
       "      <td>Griffith</td>\n",
       "    </tr>\n",
       "    <tr>\n",
       "      <th>5</th>\n",
       "      <td>1750.0</td>\n",
       "      <td>6.253</td>\n",
       "      <td>Griffith</td>\n",
       "    </tr>\n",
       "    <tr>\n",
       "      <th>6</th>\n",
       "      <td>1760.0</td>\n",
       "      <td>6.665</td>\n",
       "      <td>Griffith</td>\n",
       "    </tr>\n",
       "    <tr>\n",
       "      <th>7</th>\n",
       "      <td>1770.0</td>\n",
       "      <td>7.124</td>\n",
       "      <td>Griffith</td>\n",
       "    </tr>\n",
       "    <tr>\n",
       "      <th>8</th>\n",
       "      <td>1780.0</td>\n",
       "      <td>7.581</td>\n",
       "      <td>Griffith</td>\n",
       "    </tr>\n",
       "    <tr>\n",
       "      <th>9</th>\n",
       "      <td>1790.0</td>\n",
       "      <td>8.216</td>\n",
       "      <td>Griffith</td>\n",
       "    </tr>\n",
       "    <tr>\n",
       "      <th>10</th>\n",
       "      <td>1800.0</td>\n",
       "      <td>9.168</td>\n",
       "      <td>Griffith</td>\n",
       "    </tr>\n",
       "    <tr>\n",
       "      <th>11</th>\n",
       "      <td>1811.0</td>\n",
       "      <td>10.164</td>\n",
       "      <td>Whitaker's</td>\n",
       "    </tr>\n",
       "    <tr>\n",
       "      <th>12</th>\n",
       "      <td>1821.0</td>\n",
       "      <td>12.000</td>\n",
       "      <td>Whitaker's</td>\n",
       "    </tr>\n",
       "    <tr>\n",
       "      <th>13</th>\n",
       "      <td>1831.0</td>\n",
       "      <td>13.896</td>\n",
       "      <td>Whitaker's</td>\n",
       "    </tr>\n",
       "    <tr>\n",
       "      <th>14</th>\n",
       "      <td>1841.0</td>\n",
       "      <td>15.914</td>\n",
       "      <td>Whitaker's</td>\n",
       "    </tr>\n",
       "    <tr>\n",
       "      <th>15</th>\n",
       "      <td>1851.0</td>\n",
       "      <td>17.928</td>\n",
       "      <td>Whitaker's</td>\n",
       "    </tr>\n",
       "    <tr>\n",
       "      <th>16</th>\n",
       "      <td>1861.0</td>\n",
       "      <td>20.066</td>\n",
       "      <td>Whitaker's</td>\n",
       "    </tr>\n",
       "    <tr>\n",
       "      <th>17</th>\n",
       "      <td>1871.0</td>\n",
       "      <td>22.712</td>\n",
       "      <td>Whitaker's</td>\n",
       "    </tr>\n",
       "    <tr>\n",
       "      <th>18</th>\n",
       "      <td>1881.0</td>\n",
       "      <td>25.974</td>\n",
       "      <td>Whitaker's</td>\n",
       "    </tr>\n",
       "    <tr>\n",
       "      <th>19</th>\n",
       "      <td>1891.0</td>\n",
       "      <td>29.003</td>\n",
       "      <td>Whitaker's</td>\n",
       "    </tr>\n",
       "    <tr>\n",
       "      <th>20</th>\n",
       "      <td>1901.0</td>\n",
       "      <td>32.612</td>\n",
       "      <td>A Century of Change: Trends in UK statistics s...</td>\n",
       "    </tr>\n",
       "    <tr>\n",
       "      <th>21</th>\n",
       "      <td>1911.0</td>\n",
       "      <td>36.136</td>\n",
       "      <td>A Century of Change: Trends in UK statistics s...</td>\n",
       "    </tr>\n",
       "    <tr>\n",
       "      <th>22</th>\n",
       "      <td>1921.0</td>\n",
       "      <td>37.932</td>\n",
       "      <td>A Century of Change: Trends in UK statistics s...</td>\n",
       "    </tr>\n",
       "    <tr>\n",
       "      <th>23</th>\n",
       "      <td>1931.0</td>\n",
       "      <td>39.988</td>\n",
       "      <td>A Century of Change: Trends in UK statistics s...</td>\n",
       "    </tr>\n",
       "    <tr>\n",
       "      <th>24</th>\n",
       "      <td>1941.0</td>\n",
       "      <td>41.748</td>\n",
       "      <td>A Century of Change: Trends in UK statistics s...</td>\n",
       "    </tr>\n",
       "    <tr>\n",
       "      <th>25</th>\n",
       "      <td>1951.0</td>\n",
       "      <td>43.815</td>\n",
       "      <td>A Century of Change: Trends in UK statistics s...</td>\n",
       "    </tr>\n",
       "    <tr>\n",
       "      <th>26</th>\n",
       "      <td>1961.0</td>\n",
       "      <td>46.196</td>\n",
       "      <td>A Century of Change: Trends in UK statistics s...</td>\n",
       "    </tr>\n",
       "    <tr>\n",
       "      <th>27</th>\n",
       "      <td>1971.0</td>\n",
       "      <td>49.152</td>\n",
       "      <td>A Century of Change: Trends in UK statistics s...</td>\n",
       "    </tr>\n",
       "    <tr>\n",
       "      <th>28</th>\n",
       "      <td>1981.0</td>\n",
       "      <td>49.634</td>\n",
       "      <td>A Century of Change: Trends in UK statistics s...</td>\n",
       "    </tr>\n",
       "    <tr>\n",
       "      <th>29</th>\n",
       "      <td>1991.0</td>\n",
       "      <td>51.099</td>\n",
       "      <td>A Century of Change: Trends in UK statistics s...</td>\n",
       "    </tr>\n",
       "    <tr>\n",
       "      <th>30</th>\n",
       "      <td>2001.0</td>\n",
       "      <td>52.085</td>\n",
       "      <td>UK Statistical Census 2001</td>\n",
       "    </tr>\n",
       "    <tr>\n",
       "      <th>31</th>\n",
       "      <td>NaN</td>\n",
       "      <td>NaN</td>\n",
       "      <td>NaN</td>\n",
       "    </tr>\n",
       "  </tbody>\n",
       "</table>\n",
       "</div>"
      ],
      "text/plain": [
       "      year  population (millions)  \\\n",
       "0   1700.0                  5.835   \n",
       "1   1710.0                  6.013   \n",
       "2   1720.0                  6.048   \n",
       "3   1730.0                  6.008   \n",
       "4   1740.0                  6.013   \n",
       "5   1750.0                  6.253   \n",
       "6   1760.0                  6.665   \n",
       "7   1770.0                  7.124   \n",
       "8   1780.0                  7.581   \n",
       "9   1790.0                  8.216   \n",
       "10  1800.0                  9.168   \n",
       "11  1811.0                 10.164   \n",
       "12  1821.0                 12.000   \n",
       "13  1831.0                 13.896   \n",
       "14  1841.0                 15.914   \n",
       "15  1851.0                 17.928   \n",
       "16  1861.0                 20.066   \n",
       "17  1871.0                 22.712   \n",
       "18  1881.0                 25.974   \n",
       "19  1891.0                 29.003   \n",
       "20  1901.0                 32.612   \n",
       "21  1911.0                 36.136   \n",
       "22  1921.0                 37.932   \n",
       "23  1931.0                 39.988   \n",
       "24  1941.0                 41.748   \n",
       "25  1951.0                 43.815   \n",
       "26  1961.0                 46.196   \n",
       "27  1971.0                 49.152   \n",
       "28  1981.0                 49.634   \n",
       "29  1991.0                 51.099   \n",
       "30  2001.0                 52.085   \n",
       "31     NaN                    NaN   \n",
       "\n",
       "                                               source  \n",
       "0                                            Griffith  \n",
       "1                                            Griffith  \n",
       "2                                            Griffith  \n",
       "3                                            Griffith  \n",
       "4                                            Griffith  \n",
       "5                                            Griffith  \n",
       "6                                            Griffith  \n",
       "7                                            Griffith  \n",
       "8                                            Griffith  \n",
       "9                                            Griffith  \n",
       "10                                           Griffith  \n",
       "11                                         Whitaker's  \n",
       "12                                         Whitaker's  \n",
       "13                                         Whitaker's  \n",
       "14                                         Whitaker's  \n",
       "15                                         Whitaker's  \n",
       "16                                         Whitaker's  \n",
       "17                                         Whitaker's  \n",
       "18                                         Whitaker's  \n",
       "19                                         Whitaker's  \n",
       "20  A Century of Change: Trends in UK statistics s...  \n",
       "21  A Century of Change: Trends in UK statistics s...  \n",
       "22  A Century of Change: Trends in UK statistics s...  \n",
       "23  A Century of Change: Trends in UK statistics s...  \n",
       "24  A Century of Change: Trends in UK statistics s...  \n",
       "25  A Century of Change: Trends in UK statistics s...  \n",
       "26  A Century of Change: Trends in UK statistics s...  \n",
       "27  A Century of Change: Trends in UK statistics s...  \n",
       "28  A Century of Change: Trends in UK statistics s...  \n",
       "29  A Century of Change: Trends in UK statistics s...  \n",
       "30                         UK Statistical Census 2001  \n",
       "31                                                NaN  "
      ]
     },
     "execution_count": 9,
     "metadata": {},
     "output_type": "execute_result"
    }
   ],
   "source": [
    "data=pd.read_csv('data/s007.csv')\n",
    "x_data=data['year']\n",
    "y_data=data['population (millions)']\n",
    "data"
   ]
  },
  {
   "cell_type": "markdown",
   "id": "99e78231-1bfc-4858-b34d-5d96d17a14b5",
   "metadata": {},
   "source": [
    "(do not use the quad model on this data - bad -- but I'm showing something else, so I'll do it anyway)"
   ]
  },
  {
   "cell_type": "code",
   "execution_count": 10,
   "id": "025e7bc4-f17b-4af3-b4ef-01197674ffb2",
   "metadata": {},
   "outputs": [
    {
     "ename": "ValueError",
     "evalue": "operands could not be broadcast together with shapes (31,) (32,) ",
     "output_type": "error",
     "traceback": [
      "\u001b[0;31m---------------------------------------------------------------------------\u001b[0m",
      "\u001b[0;31mValueError\u001b[0m                                Traceback (most recent call last)",
      "\u001b[0;32m~/tmp/ipykernel_10978/1101723921.py\u001b[0m in \u001b[0;36m<module>\u001b[0;34m\u001b[0m\n\u001b[1;32m      1\u001b[0m \u001b[0mqmodel\u001b[0m\u001b[0;34m=\u001b[0m\u001b[0mmodels\u001b[0m\u001b[0;34m.\u001b[0m\u001b[0mQuadraticModel\u001b[0m\u001b[0;34m(\u001b[0m\u001b[0;34m)\u001b[0m\u001b[0;34m\u001b[0m\u001b[0;34m\u001b[0m\u001b[0m\n\u001b[1;32m      2\u001b[0m \u001b[0mparams\u001b[0m\u001b[0;34m=\u001b[0m\u001b[0mqmodel\u001b[0m\u001b[0;34m.\u001b[0m\u001b[0mmake_params\u001b[0m\u001b[0;34m(\u001b[0m\u001b[0;34m)\u001b[0m\u001b[0;34m\u001b[0m\u001b[0;34m\u001b[0m\u001b[0m\n\u001b[0;32m----> 3\u001b[0;31m \u001b[0mresult\u001b[0m \u001b[0;34m=\u001b[0m \u001b[0mqmodel\u001b[0m\u001b[0;34m.\u001b[0m\u001b[0mfit\u001b[0m\u001b[0;34m(\u001b[0m\u001b[0my_data\u001b[0m\u001b[0;34m,\u001b[0m \u001b[0mparams\u001b[0m\u001b[0;34m,\u001b[0m \u001b[0mx\u001b[0m\u001b[0;34m=\u001b[0m\u001b[0mx_data\u001b[0m\u001b[0;34m)\u001b[0m\u001b[0;34m\u001b[0m\u001b[0;34m\u001b[0m\u001b[0m\n\u001b[0m",
      "\u001b[0;32m~/opt/anaconda3/envs/py3/lib/python3.8/site-packages/lmfit/model.py\u001b[0m in \u001b[0;36mfit\u001b[0;34m(self, data, params, weights, method, iter_cb, scale_covar, verbose, fit_kws, nan_policy, calc_covar, max_nfev, **kwargs)\u001b[0m\n\u001b[1;32m   1048\u001b[0m                              \u001b[0mnan_policy\u001b[0m\u001b[0;34m=\u001b[0m\u001b[0mself\u001b[0m\u001b[0;34m.\u001b[0m\u001b[0mnan_policy\u001b[0m\u001b[0;34m,\u001b[0m \u001b[0mcalc_covar\u001b[0m\u001b[0;34m=\u001b[0m\u001b[0mcalc_covar\u001b[0m\u001b[0;34m,\u001b[0m\u001b[0;34m\u001b[0m\u001b[0;34m\u001b[0m\u001b[0m\n\u001b[1;32m   1049\u001b[0m                              max_nfev=max_nfev, **fit_kws)\n\u001b[0;32m-> 1050\u001b[0;31m         \u001b[0moutput\u001b[0m\u001b[0;34m.\u001b[0m\u001b[0mfit\u001b[0m\u001b[0;34m(\u001b[0m\u001b[0mdata\u001b[0m\u001b[0;34m=\u001b[0m\u001b[0mdata\u001b[0m\u001b[0;34m,\u001b[0m \u001b[0mweights\u001b[0m\u001b[0;34m=\u001b[0m\u001b[0mweights\u001b[0m\u001b[0;34m)\u001b[0m\u001b[0;34m\u001b[0m\u001b[0;34m\u001b[0m\u001b[0m\n\u001b[0m\u001b[1;32m   1051\u001b[0m         \u001b[0moutput\u001b[0m\u001b[0;34m.\u001b[0m\u001b[0mcomponents\u001b[0m \u001b[0;34m=\u001b[0m \u001b[0mself\u001b[0m\u001b[0;34m.\u001b[0m\u001b[0mcomponents\u001b[0m\u001b[0;34m\u001b[0m\u001b[0;34m\u001b[0m\u001b[0m\n\u001b[1;32m   1052\u001b[0m         \u001b[0;32mreturn\u001b[0m \u001b[0moutput\u001b[0m\u001b[0;34m\u001b[0m\u001b[0;34m\u001b[0m\u001b[0m\n",
      "\u001b[0;32m~/opt/anaconda3/envs/py3/lib/python3.8/site-packages/lmfit/model.py\u001b[0m in \u001b[0;36mfit\u001b[0;34m(self, data, params, weights, method, nan_policy, **kwargs)\u001b[0m\n\u001b[1;32m   1403\u001b[0m         \u001b[0mself\u001b[0m\u001b[0;34m.\u001b[0m\u001b[0muserkws\u001b[0m\u001b[0;34m.\u001b[0m\u001b[0mupdate\u001b[0m\u001b[0;34m(\u001b[0m\u001b[0mkwargs\u001b[0m\u001b[0;34m)\u001b[0m\u001b[0;34m\u001b[0m\u001b[0;34m\u001b[0m\u001b[0m\n\u001b[1;32m   1404\u001b[0m         \u001b[0mself\u001b[0m\u001b[0;34m.\u001b[0m\u001b[0minit_fit\u001b[0m \u001b[0;34m=\u001b[0m \u001b[0mself\u001b[0m\u001b[0;34m.\u001b[0m\u001b[0mmodel\u001b[0m\u001b[0;34m.\u001b[0m\u001b[0meval\u001b[0m\u001b[0;34m(\u001b[0m\u001b[0mparams\u001b[0m\u001b[0;34m=\u001b[0m\u001b[0mself\u001b[0m\u001b[0;34m.\u001b[0m\u001b[0mparams\u001b[0m\u001b[0;34m,\u001b[0m \u001b[0;34m**\u001b[0m\u001b[0mself\u001b[0m\u001b[0;34m.\u001b[0m\u001b[0muserkws\u001b[0m\u001b[0;34m)\u001b[0m\u001b[0;34m\u001b[0m\u001b[0;34m\u001b[0m\u001b[0m\n\u001b[0;32m-> 1405\u001b[0;31m         \u001b[0m_ret\u001b[0m \u001b[0;34m=\u001b[0m \u001b[0mself\u001b[0m\u001b[0;34m.\u001b[0m\u001b[0mminimize\u001b[0m\u001b[0;34m(\u001b[0m\u001b[0mmethod\u001b[0m\u001b[0;34m=\u001b[0m\u001b[0mself\u001b[0m\u001b[0;34m.\u001b[0m\u001b[0mmethod\u001b[0m\u001b[0;34m)\u001b[0m\u001b[0;34m\u001b[0m\u001b[0;34m\u001b[0m\u001b[0m\n\u001b[0m\u001b[1;32m   1406\u001b[0m \u001b[0;34m\u001b[0m\u001b[0m\n\u001b[1;32m   1407\u001b[0m         \u001b[0;32mfor\u001b[0m \u001b[0mattr\u001b[0m \u001b[0;32min\u001b[0m \u001b[0mdir\u001b[0m\u001b[0;34m(\u001b[0m\u001b[0m_ret\u001b[0m\u001b[0;34m)\u001b[0m\u001b[0;34m:\u001b[0m\u001b[0;34m\u001b[0m\u001b[0;34m\u001b[0m\u001b[0m\n",
      "\u001b[0;32m~/opt/anaconda3/envs/py3/lib/python3.8/site-packages/lmfit/minimizer.py\u001b[0m in \u001b[0;36mminimize\u001b[0;34m(self, method, params, **kws)\u001b[0m\n\u001b[1;32m   2350\u001b[0m                         val.lower().startswith(user_method)):\n\u001b[1;32m   2351\u001b[0m                     \u001b[0mkwargs\u001b[0m\u001b[0;34m[\u001b[0m\u001b[0;34m'method'\u001b[0m\u001b[0;34m]\u001b[0m \u001b[0;34m=\u001b[0m \u001b[0mval\u001b[0m\u001b[0;34m\u001b[0m\u001b[0;34m\u001b[0m\u001b[0m\n\u001b[0;32m-> 2352\u001b[0;31m         \u001b[0;32mreturn\u001b[0m \u001b[0mfunction\u001b[0m\u001b[0;34m(\u001b[0m\u001b[0;34m**\u001b[0m\u001b[0mkwargs\u001b[0m\u001b[0;34m)\u001b[0m\u001b[0;34m\u001b[0m\u001b[0;34m\u001b[0m\u001b[0m\n\u001b[0m\u001b[1;32m   2353\u001b[0m \u001b[0;34m\u001b[0m\u001b[0m\n\u001b[1;32m   2354\u001b[0m \u001b[0;34m\u001b[0m\u001b[0m\n",
      "\u001b[0;32m~/opt/anaconda3/envs/py3/lib/python3.8/site-packages/lmfit/minimizer.py\u001b[0m in \u001b[0;36mleastsq\u001b[0;34m(self, params, max_nfev, **kws)\u001b[0m\n\u001b[1;32m   1687\u001b[0m         \u001b[0mresult\u001b[0m\u001b[0;34m.\u001b[0m\u001b[0mcall_kws\u001b[0m \u001b[0;34m=\u001b[0m \u001b[0mlskws\u001b[0m\u001b[0;34m\u001b[0m\u001b[0;34m\u001b[0m\u001b[0m\n\u001b[1;32m   1688\u001b[0m         \u001b[0;32mtry\u001b[0m\u001b[0;34m:\u001b[0m\u001b[0;34m\u001b[0m\u001b[0;34m\u001b[0m\u001b[0m\n\u001b[0;32m-> 1689\u001b[0;31m             \u001b[0mlsout\u001b[0m \u001b[0;34m=\u001b[0m \u001b[0mscipy_leastsq\u001b[0m\u001b[0;34m(\u001b[0m\u001b[0mself\u001b[0m\u001b[0;34m.\u001b[0m\u001b[0m__residual\u001b[0m\u001b[0;34m,\u001b[0m \u001b[0mvariables\u001b[0m\u001b[0;34m,\u001b[0m \u001b[0;34m**\u001b[0m\u001b[0mlskws\u001b[0m\u001b[0;34m)\u001b[0m\u001b[0;34m\u001b[0m\u001b[0;34m\u001b[0m\u001b[0m\n\u001b[0m\u001b[1;32m   1690\u001b[0m         \u001b[0;32mexcept\u001b[0m \u001b[0mAbortFitException\u001b[0m\u001b[0;34m:\u001b[0m\u001b[0;34m\u001b[0m\u001b[0;34m\u001b[0m\u001b[0m\n\u001b[1;32m   1691\u001b[0m             \u001b[0;32mpass\u001b[0m\u001b[0;34m\u001b[0m\u001b[0;34m\u001b[0m\u001b[0m\n",
      "\u001b[0;32m~/opt/anaconda3/envs/py3/lib/python3.8/site-packages/scipy/optimize/minpack.py\u001b[0m in \u001b[0;36mleastsq\u001b[0;34m(func, x0, args, Dfun, full_output, col_deriv, ftol, xtol, gtol, maxfev, epsfcn, factor, diag)\u001b[0m\n\u001b[1;32m    408\u001b[0m     \u001b[0;32mif\u001b[0m \u001b[0;32mnot\u001b[0m \u001b[0misinstance\u001b[0m\u001b[0;34m(\u001b[0m\u001b[0margs\u001b[0m\u001b[0;34m,\u001b[0m \u001b[0mtuple\u001b[0m\u001b[0;34m)\u001b[0m\u001b[0;34m:\u001b[0m\u001b[0;34m\u001b[0m\u001b[0;34m\u001b[0m\u001b[0m\n\u001b[1;32m    409\u001b[0m         \u001b[0margs\u001b[0m \u001b[0;34m=\u001b[0m \u001b[0;34m(\u001b[0m\u001b[0margs\u001b[0m\u001b[0;34m,\u001b[0m\u001b[0;34m)\u001b[0m\u001b[0;34m\u001b[0m\u001b[0;34m\u001b[0m\u001b[0m\n\u001b[0;32m--> 410\u001b[0;31m     \u001b[0mshape\u001b[0m\u001b[0;34m,\u001b[0m \u001b[0mdtype\u001b[0m \u001b[0;34m=\u001b[0m \u001b[0m_check_func\u001b[0m\u001b[0;34m(\u001b[0m\u001b[0;34m'leastsq'\u001b[0m\u001b[0;34m,\u001b[0m \u001b[0;34m'func'\u001b[0m\u001b[0;34m,\u001b[0m \u001b[0mfunc\u001b[0m\u001b[0;34m,\u001b[0m \u001b[0mx0\u001b[0m\u001b[0;34m,\u001b[0m \u001b[0margs\u001b[0m\u001b[0;34m,\u001b[0m \u001b[0mn\u001b[0m\u001b[0;34m)\u001b[0m\u001b[0;34m\u001b[0m\u001b[0;34m\u001b[0m\u001b[0m\n\u001b[0m\u001b[1;32m    411\u001b[0m     \u001b[0mm\u001b[0m \u001b[0;34m=\u001b[0m \u001b[0mshape\u001b[0m\u001b[0;34m[\u001b[0m\u001b[0;36m0\u001b[0m\u001b[0;34m]\u001b[0m\u001b[0;34m\u001b[0m\u001b[0;34m\u001b[0m\u001b[0m\n\u001b[1;32m    412\u001b[0m \u001b[0;34m\u001b[0m\u001b[0m\n",
      "\u001b[0;32m~/opt/anaconda3/envs/py3/lib/python3.8/site-packages/scipy/optimize/minpack.py\u001b[0m in \u001b[0;36m_check_func\u001b[0;34m(checker, argname, thefunc, x0, args, numinputs, output_shape)\u001b[0m\n\u001b[1;32m     22\u001b[0m def _check_func(checker, argname, thefunc, x0, args, numinputs,\n\u001b[1;32m     23\u001b[0m                 output_shape=None):\n\u001b[0;32m---> 24\u001b[0;31m     \u001b[0mres\u001b[0m \u001b[0;34m=\u001b[0m \u001b[0matleast_1d\u001b[0m\u001b[0;34m(\u001b[0m\u001b[0mthefunc\u001b[0m\u001b[0;34m(\u001b[0m\u001b[0;34m*\u001b[0m\u001b[0;34m(\u001b[0m\u001b[0;34m(\u001b[0m\u001b[0mx0\u001b[0m\u001b[0;34m[\u001b[0m\u001b[0;34m:\u001b[0m\u001b[0mnuminputs\u001b[0m\u001b[0;34m]\u001b[0m\u001b[0;34m,\u001b[0m\u001b[0;34m)\u001b[0m \u001b[0;34m+\u001b[0m \u001b[0margs\u001b[0m\u001b[0;34m)\u001b[0m\u001b[0;34m)\u001b[0m\u001b[0;34m)\u001b[0m\u001b[0;34m\u001b[0m\u001b[0;34m\u001b[0m\u001b[0m\n\u001b[0m\u001b[1;32m     25\u001b[0m     \u001b[0;32mif\u001b[0m \u001b[0;34m(\u001b[0m\u001b[0moutput_shape\u001b[0m \u001b[0;32mis\u001b[0m \u001b[0;32mnot\u001b[0m \u001b[0;32mNone\u001b[0m\u001b[0;34m)\u001b[0m \u001b[0;32mand\u001b[0m \u001b[0;34m(\u001b[0m\u001b[0mshape\u001b[0m\u001b[0;34m(\u001b[0m\u001b[0mres\u001b[0m\u001b[0;34m)\u001b[0m \u001b[0;34m!=\u001b[0m \u001b[0moutput_shape\u001b[0m\u001b[0;34m)\u001b[0m\u001b[0;34m:\u001b[0m\u001b[0;34m\u001b[0m\u001b[0;34m\u001b[0m\u001b[0m\n\u001b[1;32m     26\u001b[0m         \u001b[0;32mif\u001b[0m \u001b[0;34m(\u001b[0m\u001b[0moutput_shape\u001b[0m\u001b[0;34m[\u001b[0m\u001b[0;36m0\u001b[0m\u001b[0;34m]\u001b[0m \u001b[0;34m!=\u001b[0m \u001b[0;36m1\u001b[0m\u001b[0;34m)\u001b[0m\u001b[0;34m:\u001b[0m\u001b[0;34m\u001b[0m\u001b[0;34m\u001b[0m\u001b[0m\n",
      "\u001b[0;32m~/opt/anaconda3/envs/py3/lib/python3.8/site-packages/lmfit/minimizer.py\u001b[0m in \u001b[0;36m__residual\u001b[0;34m(self, fvars, apply_bounds_transformation)\u001b[0m\n\u001b[1;32m    585\u001b[0m             \u001b[0;32mraise\u001b[0m \u001b[0mAbortFitException\u001b[0m\u001b[0;34m(\u001b[0m\u001b[0;34mf\"fit aborted: too many function evaluations {self.max_nfev}\"\u001b[0m\u001b[0;34m)\u001b[0m\u001b[0;34m\u001b[0m\u001b[0;34m\u001b[0m\u001b[0m\n\u001b[1;32m    586\u001b[0m \u001b[0;34m\u001b[0m\u001b[0m\n\u001b[0;32m--> 587\u001b[0;31m         \u001b[0mout\u001b[0m \u001b[0;34m=\u001b[0m \u001b[0mself\u001b[0m\u001b[0;34m.\u001b[0m\u001b[0muserfcn\u001b[0m\u001b[0;34m(\u001b[0m\u001b[0mparams\u001b[0m\u001b[0;34m,\u001b[0m \u001b[0;34m*\u001b[0m\u001b[0mself\u001b[0m\u001b[0;34m.\u001b[0m\u001b[0muserargs\u001b[0m\u001b[0;34m,\u001b[0m \u001b[0;34m**\u001b[0m\u001b[0mself\u001b[0m\u001b[0;34m.\u001b[0m\u001b[0muserkws\u001b[0m\u001b[0;34m)\u001b[0m\u001b[0;34m\u001b[0m\u001b[0;34m\u001b[0m\u001b[0m\n\u001b[0m\u001b[1;32m    588\u001b[0m \u001b[0;34m\u001b[0m\u001b[0m\n\u001b[1;32m    589\u001b[0m         \u001b[0;32mif\u001b[0m \u001b[0mcallable\u001b[0m\u001b[0;34m(\u001b[0m\u001b[0mself\u001b[0m\u001b[0;34m.\u001b[0m\u001b[0miter_cb\u001b[0m\u001b[0;34m)\u001b[0m\u001b[0;34m:\u001b[0m\u001b[0;34m\u001b[0m\u001b[0;34m\u001b[0m\u001b[0m\n",
      "\u001b[0;32m~/opt/anaconda3/envs/py3/lib/python3.8/site-packages/lmfit/model.py\u001b[0m in \u001b[0;36m_residual\u001b[0;34m(self, params, data, weights, **kwargs)\u001b[0m\n\u001b[1;32m    770\u001b[0m             \u001b[0;32mraise\u001b[0m \u001b[0mValueError\u001b[0m\u001b[0;34m(\u001b[0m\u001b[0mmsg\u001b[0m\u001b[0;34m)\u001b[0m\u001b[0;34m\u001b[0m\u001b[0;34m\u001b[0m\u001b[0m\n\u001b[1;32m    771\u001b[0m \u001b[0;34m\u001b[0m\u001b[0m\n\u001b[0;32m--> 772\u001b[0;31m         \u001b[0mdiff\u001b[0m \u001b[0;34m=\u001b[0m \u001b[0mmodel\u001b[0m \u001b[0;34m-\u001b[0m \u001b[0mdata\u001b[0m\u001b[0;34m\u001b[0m\u001b[0;34m\u001b[0m\u001b[0m\n\u001b[0m\u001b[1;32m    773\u001b[0m \u001b[0;34m\u001b[0m\u001b[0m\n\u001b[1;32m    774\u001b[0m         \u001b[0;32mif\u001b[0m \u001b[0mdiff\u001b[0m\u001b[0;34m.\u001b[0m\u001b[0mdtype\u001b[0m \u001b[0;34m==\u001b[0m \u001b[0mcomplex\u001b[0m\u001b[0;34m:\u001b[0m\u001b[0;34m\u001b[0m\u001b[0;34m\u001b[0m\u001b[0m\n",
      "\u001b[0;31mValueError\u001b[0m: operands could not be broadcast together with shapes (31,) (32,) "
     ]
    }
   ],
   "source": [
    "qmodel=models.QuadraticModel()\n",
    "params=qmodel.make_params()\n",
    "result = qmodel.fit(y_data, params, x=x_data)"
   ]
  },
  {
   "cell_type": "code",
   "execution_count": null,
   "id": "0f5ca8c7-8d55-4bec-b66f-8254c77a8e8e",
   "metadata": {},
   "outputs": [],
   "source": []
  },
  {
   "cell_type": "code",
   "execution_count": null,
   "id": "2fc004eb-fdfd-4e36-a627-d13149cc28f0",
   "metadata": {},
   "outputs": [],
   "source": []
  },
  {
   "cell_type": "code",
   "execution_count": null,
   "id": "1a450614-e34e-40a6-bec5-ca2b1b492c8f",
   "metadata": {},
   "outputs": [],
   "source": []
  },
  {
   "cell_type": "markdown",
   "id": "544c3b51-ad0d-4ae5-9f90-c620060cfe4b",
   "metadata": {},
   "source": [
    "# Another Data Set\n"
   ]
  },
  {
   "cell_type": "code",
   "execution_count": 9,
   "id": "ef2b58ba-0e75-4d57-85dc-6674ac4e01cd",
   "metadata": {},
   "outputs": [],
   "source": [
    "x_data,y_data=(array([0.        , 0.12820513, 0.25641026, 0.38461538, 0.51282051,\n",
    "        0.64102564, 0.76923077, 0.8974359 , 1.02564103, 1.15384615,\n",
    "        1.28205128, 1.41025641, 1.53846154, 1.66666667, 1.79487179,\n",
    "        1.92307692, 2.05128205, 2.17948718, 2.30769231, 2.43589744,\n",
    "        2.56410256, 2.69230769, 2.82051282, 2.94871795, 3.07692308,\n",
    "        3.20512821, 3.33333333, 3.46153846, 3.58974359, 3.71794872,\n",
    "        3.84615385, 3.97435897, 4.1025641 , 4.23076923, 4.35897436,\n",
    "        4.48717949, 4.61538462, 4.74358974, 4.87179487, 5.        ]),\n",
    " array([ 1.0428932 ,  0.89749902,  0.75670392,  0.64111299,  0.55718173,\n",
    "         0.52405064,  0.56088843,  0.5490807 ,  0.42480484,  0.47428914,\n",
    "         0.2934649 ,  0.34352106,  0.33185889,  0.27993667,  0.26003406,\n",
    "         0.27138304,  0.39834035,  0.28156451,  0.2572975 ,  0.27710445,\n",
    "         0.15969731,  0.22588548,  0.18106594,  0.15347512,  0.25385423,\n",
    "         0.20835157,  0.1964213 ,  0.09014651,  0.11874164,  0.14871592,\n",
    "         0.06117995,  0.19194054,  0.05546755,  0.10819372,  0.13157402,\n",
    "         0.16435838,  0.04113969, -0.03053311,  0.0710629 ,  0.08495973]))"
   ]
  },
  {
   "cell_type": "code",
   "execution_count": null,
   "id": "57bb8894-2fbd-40ba-949b-84b4f9663504",
   "metadata": {},
   "outputs": [],
   "source": []
  }
 ],
 "metadata": {
  "kernelspec": {
   "display_name": "Python 3 (ipykernel)",
   "language": "python",
   "name": "python3"
  },
  "language_info": {
   "codemirror_mode": {
    "name": "ipython",
    "version": 3
   },
   "file_extension": ".py",
   "mimetype": "text/x-python",
   "name": "python",
   "nbconvert_exporter": "python",
   "pygments_lexer": "ipython3",
   "version": "3.8.12"
  }
 },
 "nbformat": 4,
 "nbformat_minor": 5
}
