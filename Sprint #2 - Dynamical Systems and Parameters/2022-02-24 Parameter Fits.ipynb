{
 "cells": [
  {
   "cell_type": "code",
   "execution_count": 1,
   "id": "236941de-c16d-4569-a424-d48a2808cb2b",
   "metadata": {},
   "outputs": [
    {
     "name": "stdout",
     "output_type": "stream",
     "text": [
      "Populating the interactive namespace from numpy and matplotlib\n"
     ]
    }
   ],
   "source": [
    "%pylab inline"
   ]
  },
  {
   "cell_type": "code",
   "execution_count": 2,
   "id": "7feb0729-9547-4bf9-a76d-62f520922aff",
   "metadata": {},
   "outputs": [
    {
     "name": "stdout",
     "output_type": "stream",
     "text": [
      "pyndamics3  version  0.0.27\n",
      "Version:  0.0.18\n"
     ]
    }
   ],
   "source": [
    "from pyndamics3 import Simulation\n",
    "from sci378 import *"
   ]
  },
  {
   "cell_type": "code",
   "execution_count": 6,
   "id": "c1bbbf3d-f6fb-4c74-a3e4-d950d51f1966",
   "metadata": {},
   "outputs": [],
   "source": [
    "data=pd.read_csv('https://raw.githubusercontent.com/bblais/Computer-Programming-for-the-Sciences-Spring-2022/main/Sprint%20%232%20-%20Dynamical%20Systems%20and%20Parameters/logistic_sample_data/logistic_sample_data_0.csv')"
   ]
  },
  {
   "cell_type": "code",
   "execution_count": 7,
   "id": "38c6b685-d8a2-458d-8095-bbe0135708a8",
   "metadata": {},
   "outputs": [
    {
     "data": {
      "text/html": [
       "<div>\n",
       "<style scoped>\n",
       "    .dataframe tbody tr th:only-of-type {\n",
       "        vertical-align: middle;\n",
       "    }\n",
       "\n",
       "    .dataframe tbody tr th {\n",
       "        vertical-align: top;\n",
       "    }\n",
       "\n",
       "    .dataframe thead th {\n",
       "        text-align: right;\n",
       "    }\n",
       "</style>\n",
       "<table border=\"1\" class=\"dataframe\">\n",
       "  <thead>\n",
       "    <tr style=\"text-align: right;\">\n",
       "      <th></th>\n",
       "      <th>t</th>\n",
       "      <th>y</th>\n",
       "    </tr>\n",
       "  </thead>\n",
       "  <tbody>\n",
       "    <tr>\n",
       "      <th>0</th>\n",
       "      <td>0.000000</td>\n",
       "      <td>-23.457109</td>\n",
       "    </tr>\n",
       "    <tr>\n",
       "      <th>1</th>\n",
       "      <td>2.631579</td>\n",
       "      <td>85.591985</td>\n",
       "    </tr>\n",
       "    <tr>\n",
       "      <th>2</th>\n",
       "      <td>5.263158</td>\n",
       "      <td>298.678725</td>\n",
       "    </tr>\n",
       "    <tr>\n",
       "      <th>3</th>\n",
       "      <td>7.894737</td>\n",
       "      <td>262.557105</td>\n",
       "    </tr>\n",
       "    <tr>\n",
       "      <th>4</th>\n",
       "      <td>10.526316</td>\n",
       "      <td>267.429098</td>\n",
       "    </tr>\n",
       "    <tr>\n",
       "      <th>5</th>\n",
       "      <td>13.157895</td>\n",
       "      <td>300.568103</td>\n",
       "    </tr>\n",
       "    <tr>\n",
       "      <th>6</th>\n",
       "      <td>15.789474</td>\n",
       "      <td>283.661187</td>\n",
       "    </tr>\n",
       "    <tr>\n",
       "      <th>7</th>\n",
       "      <td>18.421053</td>\n",
       "      <td>300.665351</td>\n",
       "    </tr>\n",
       "    <tr>\n",
       "      <th>8</th>\n",
       "      <td>21.052632</td>\n",
       "      <td>224.524302</td>\n",
       "    </tr>\n",
       "    <tr>\n",
       "      <th>9</th>\n",
       "      <td>23.684211</td>\n",
       "      <td>285.753790</td>\n",
       "    </tr>\n",
       "    <tr>\n",
       "      <th>10</th>\n",
       "      <td>26.315789</td>\n",
       "      <td>297.407799</td>\n",
       "    </tr>\n",
       "    <tr>\n",
       "      <th>11</th>\n",
       "      <td>28.947368</td>\n",
       "      <td>213.968131</td>\n",
       "    </tr>\n",
       "    <tr>\n",
       "      <th>12</th>\n",
       "      <td>31.578947</td>\n",
       "      <td>230.573735</td>\n",
       "    </tr>\n",
       "    <tr>\n",
       "      <th>13</th>\n",
       "      <td>34.210526</td>\n",
       "      <td>203.168467</td>\n",
       "    </tr>\n",
       "    <tr>\n",
       "      <th>14</th>\n",
       "      <td>36.842105</td>\n",
       "      <td>278.967874</td>\n",
       "    </tr>\n",
       "    <tr>\n",
       "      <th>15</th>\n",
       "      <td>39.473684</td>\n",
       "      <td>244.024620</td>\n",
       "    </tr>\n",
       "    <tr>\n",
       "      <th>16</th>\n",
       "      <td>42.105263</td>\n",
       "      <td>200.067570</td>\n",
       "    </tr>\n",
       "    <tr>\n",
       "      <th>17</th>\n",
       "      <td>44.736842</td>\n",
       "      <td>288.990349</td>\n",
       "    </tr>\n",
       "    <tr>\n",
       "      <th>18</th>\n",
       "      <td>47.368421</td>\n",
       "      <td>257.654010</td>\n",
       "    </tr>\n",
       "    <tr>\n",
       "      <th>19</th>\n",
       "      <td>50.000000</td>\n",
       "      <td>264.393372</td>\n",
       "    </tr>\n",
       "  </tbody>\n",
       "</table>\n",
       "</div>"
      ],
      "text/plain": [
       "            t           y\n",
       "0    0.000000  -23.457109\n",
       "1    2.631579   85.591985\n",
       "2    5.263158  298.678725\n",
       "3    7.894737  262.557105\n",
       "4   10.526316  267.429098\n",
       "5   13.157895  300.568103\n",
       "6   15.789474  283.661187\n",
       "7   18.421053  300.665351\n",
       "8   21.052632  224.524302\n",
       "9   23.684211  285.753790\n",
       "10  26.315789  297.407799\n",
       "11  28.947368  213.968131\n",
       "12  31.578947  230.573735\n",
       "13  34.210526  203.168467\n",
       "14  36.842105  278.967874\n",
       "15  39.473684  244.024620\n",
       "16  42.105263  200.067570\n",
       "17  44.736842  288.990349\n",
       "18  47.368421  257.654010\n",
       "19  50.000000  264.393372"
      ]
     },
     "execution_count": 7,
     "metadata": {},
     "output_type": "execute_result"
    }
   ],
   "source": [
    "data=pd.read_csv('logistic_sample_data/logistic_sample_data_0.csv')\n",
    "data"
   ]
  },
  {
   "cell_type": "code",
   "execution_count": 8,
   "id": "0dbf914a-8d38-4734-a2e2-669b3095c639",
   "metadata": {},
   "outputs": [
    {
     "data": {
      "text/plain": [
       "[<matplotlib.lines.Line2D at 0x7fcdf8544d00>]"
      ]
     },
     "execution_count": 8,
     "metadata": {},
     "output_type": "execute_result"
    },
    {
     "data": {
      "image/png": "[encoded data removed]",
      "text/plain": [
       "<Figure size 576x288 with 1 Axes>"
      ]
     },
     "metadata": {
      "needs_background": "light"
     },
     "output_type": "display_data"
    }
   ],
   "source": [
    "figure(figsize=(8,4))\n",
    "t_data=data['t']\n",
    "y_data=data['y']\n",
    "plot(t_data,y_data,'o')"
   ]
  },
  {
   "cell_type": "code",
   "execution_count": 19,
   "id": "fe069452-b937-49cb-a0a4-eb2c78f2079a",
   "metadata": {},
   "outputs": [
    {
     "data": {
      "image/png": "[encoded data removed]",
      "text/plain": [
       "<Figure size 576x288 with 1 Axes>"
      ]
     },
     "metadata": {
      "needs_background": "light"
     },
     "output_type": "display_data"
    },
    {
     "data": {
      "text/plain": [
       "<Figure size 864x576 with 0 Axes>"
      ]
     },
     "metadata": {},
     "output_type": "display_data"
    }
   ],
   "source": [
    "sim=Simulation()\n",
    "sim.figsize=(8,4)\n",
    "sim.add(\"x'=a*x*(1-x/k)\",1,plot=True)\n",
    "sim.params(a=1,k=50)\n",
    "sim.add_data(t=t_data,x=y_data,plot=True)\n",
    "sim.run(50)"
   ]
  },
  {
   "cell_type": "code",
   "execution_count": 16,
   "id": "c88a66ed-2f9a-43ee-9eac-8da2a93be02a",
   "metadata": {},
   "outputs": [
    {
     "data": {
      "image/png": "[encoded data removed]",
      "text/plain": [
       "<Figure size 576x288 with 1 Axes>"
      ]
     },
     "metadata": {
      "needs_background": "light"
     },
     "output_type": "display_data"
    },
    {
     "data": {
      "text/plain": [
       "<Figure size 864x576 with 0 Axes>"
      ]
     },
     "metadata": {},
     "output_type": "display_data"
    }
   ],
   "source": [
    "sim=Simulation()\n",
    "sim.figsize=(8,4)\n",
    "sim.add(\"x'=a*x*(1-x/k)\",1,plot=True)\n",
    "sim.params(a=1.5,k=275)\n",
    "sim.add_data(t=t_data,x=y_data,plot=True)\n",
    "sim.run(50)"
   ]
  },
  {
   "cell_type": "code",
   "execution_count": null,
   "id": "5e49ebd7-5a33-4a79-982e-283c4d63f3fb",
   "metadata": {},
   "outputs": [],
   "source": []
  }
 ],
 "metadata": {
  "kernelspec": {
   "display_name": "Python 3 (ipykernel)",
   "language": "python",
   "name": "python3"
  },
  "language_info": {
   "codemirror_mode": {
    "name": "ipython",
    "version": 3
   },
   "file_extension": ".py",
   "mimetype": "text/x-python",
   "name": "python",
   "nbconvert_exporter": "python",
   "pygments_lexer": "ipython3",
   "version": "3.8.12"
  }
 },
 "nbformat": 4,
 "nbformat_minor": 5
}
