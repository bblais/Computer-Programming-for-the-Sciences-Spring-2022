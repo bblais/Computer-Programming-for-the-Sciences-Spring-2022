{
 "cells": [
  {
   "cell_type": "code",
   "execution_count": 1,
   "id": "20608f12-4268-487a-9ce7-18e548213517",
   "metadata": {},
   "outputs": [],
   "source": [
    "def get_full_word_list():\n",
    "    import random\n",
    "    with open(\"wordlist_guesses.txt\") as fid:\n",
    "        lines=fid.readlines()\n",
    "    five_letter_words=[_.strip() for _ in lines]    \n",
    "\n",
    "    with open(\"count_1w.txt\") as fid:\n",
    "        lines=fid.readlines()\n",
    "\n",
    "    popwords,counts=zip(*[_.split() for _ in lines if len(_.split()[0])==5])    \n",
    "\n",
    "    subset=[]\n",
    "    for word in popwords:\n",
    "        if word in five_letter_words:\n",
    "            subset.append(word)\n",
    "\n",
    "    return subset\n"
   ]
  },
  {
   "cell_type": "code",
   "execution_count": 2,
   "id": "9896498b-4a8d-4c71-9996-9de93490f0f6",
   "metadata": {},
   "outputs": [],
   "source": [
    "words=get_full_word_list()"
   ]
  },
  {
   "cell_type": "code",
   "execution_count": 3,
   "id": "475f1f65-f295-46ac-82e6-714e81cfbe94",
   "metadata": {},
   "outputs": [],
   "source": [
    "import random"
   ]
  },
  {
   "cell_type": "code",
   "execution_count": 5,
   "id": "98563121-4a42-458c-86ad-2de61a386f6a",
   "metadata": {},
   "outputs": [
    {
     "data": {
      "text/plain": [
       "('slime', 'smart')"
      ]
     },
     "execution_count": 5,
     "metadata": {},
     "output_type": "execute_result"
    }
   ],
   "source": [
    "word1=random.choice(words)\n",
    "word2=random.choice(words)\n",
    "\n",
    "word1,word2"
   ]
  },
  {
   "cell_type": "code",
   "execution_count": 14,
   "id": "a9e41c18-e6a9-4b56-9912-c568c38c6966",
   "metadata": {},
   "outputs": [],
   "source": [
    "def difference(word1,word2):\n",
    "    L=['-']*5\n",
    "    word1=list(word1)\n",
    "    word2=list(word2)    \n",
    "    positions=list(range(5))\n",
    "    for idx in positions.copy():\n",
    "        if word1[idx]==word2[idx]:\n",
    "            L[idx]='g'\n",
    "            positions.remove(idx)\n",
    "            word1[idx]=\".\"\n",
    "            word2[idx]=\".\"\n",
    "\n",
    "            \n",
    "    for idx in positions:\n",
    "        try: \n",
    "            idx2=word2.index(word1[idx])\n",
    "            L[idx]='y'\n",
    "            word1[idx]=\".\"\n",
    "            word2[idx2]=\".\"\n",
    "        except ValueError:\n",
    "            continue\n",
    "            \n",
    "    \n",
    "    return ''.join(L)\n",
    "    \n",
    "    "
   ]
  },
  {
   "cell_type": "code",
   "execution_count": 15,
   "id": "943f799b-9715-459e-8ff0-4c994e506084",
   "metadata": {},
   "outputs": [
    {
     "data": {
      "text/plain": [
       "'g--y-'"
      ]
     },
     "execution_count": 15,
     "metadata": {},
     "output_type": "execute_result"
    }
   ],
   "source": [
    "difference('slime','smart')"
   ]
  },
  {
   "cell_type": "code",
   "execution_count": 20,
   "id": "be920516-fdc2-4d62-bb99-fe5a473808ff",
   "metadata": {},
   "outputs": [
    {
     "data": {
      "text/plain": [
       "('ropey', 'richt', 'g----')"
      ]
     },
     "execution_count": 20,
     "metadata": {},
     "output_type": "execute_result"
    }
   ],
   "source": [
    "word1=random.choice(words)\n",
    "word2=random.choice(words)\n",
    "\n",
    "word1,word2,difference(word1,word2)\n"
   ]
  },
  {
   "cell_type": "code",
   "execution_count": 22,
   "id": "f4b250ed-d16b-4daa-8b09-8a1e60c3b6f0",
   "metadata": {},
   "outputs": [
    {
     "data": {
      "text/plain": [
       "0"
      ]
     },
     "execution_count": 22,
     "metadata": {},
     "output_type": "execute_result"
    }
   ],
   "source": [
    "'g----'.count('y')"
   ]
  },
  {
   "cell_type": "code",
   "execution_count": 24,
   "id": "d1e575da-2795-4116-a6e2-ade81431e818",
   "metadata": {},
   "outputs": [],
   "source": [
    "from tqdm import tqdm"
   ]
  },
  {
   "cell_type": "code",
   "execution_count": 36,
   "id": "477c58e9-a668-4ced-b208-c2712861fa0a",
   "metadata": {},
   "outputs": [
    {
     "name": "stderr",
     "output_type": "stream",
     "text": [
      "100%|███████████████████████████████████████████████████████████| 8092/8092 [04:04<00:00, 33.15it/s]\n"
     ]
    }
   ],
   "source": [
    "gy_count={}\n",
    "for word1 in tqdm(words):\n",
    "    gy_count[word1]=0\n",
    "    \n",
    "    \n",
    "    for word2 in words:\n",
    "        S=difference(word1,word2)\n",
    "        gy_count[word1]+=S.count('y')+S.count('g')\n",
    "        \n"
   ]
  },
  {
   "cell_type": "code",
   "execution_count": 37,
   "id": "8c05bd1a-80f5-4ed6-8f17-e2617c4a821b",
   "metadata": {},
   "outputs": [],
   "source": [
    "new_gy_count=[(k,v) for k, v in sorted(gy_count.items(), key=lambda item: item[1],reverse=True)]"
   ]
  },
  {
   "cell_type": "code",
   "execution_count": 39,
   "id": "0d8a40cc-69ec-4e91-880b-7b918b38fda6",
   "metadata": {},
   "outputs": [
    {
     "data": {
      "text/plain": [
       "192"
      ]
     },
     "execution_count": 39,
     "metadata": {},
     "output_type": "execute_result"
    }
   ],
   "source": [
    "[_[0] for _ in new_gy_count].index(\"steam\")"
   ]
  },
  {
   "cell_type": "code",
   "execution_count": 43,
   "id": "558f4dcc-fd47-415e-a78d-f368db0db566",
   "metadata": {},
   "outputs": [
    {
     "name": "stdout",
     "output_type": "stream",
     "text": [
      "['arose', 'aeros', 'raise', 'arise', 'reais', 'serai', 'aesir', 'rates', 'tears', 'stare', 'aster', 'taser', 'tares', 'stear', 'teras', 'reast', 'laser', 'reals', 'earls', 'arles', 'lares', 'seral', 'rales', 'lears', 'aloes', 'earns', 'snare', 'nears', 'saner', 'nares', 'aeons', 'aisle', 'anise', 'saine', 'least', 'tales', 'steal', 'slate', 'tesla', 'stale', 'stela', 'reads', 'dares', 'dears', 'arsed', 'eards', 'ursae', 'osier', 'acres', 'races', 'cares', 'scare', 'carse', 'serac', 'acers', 'antes', 'nates', 'stane', 'lanes', 'leans', 'slane', 'neals', 'smear', 'mares', 'reams', 'maser', 'marse', 'spare', 'parse', 'spear', 'pears', 'rapes', 'apres', 'reaps', 'pares', 'presa', 'asper', 'apers', 'years', 'ayres', 'sayer', 'ideas', 'aside', 'aides', 'store', 'resto', 'estro', 'rotes', 'roset', 'share', 'shear', 'hears', 'hares', 'roles', 'loser', 'sorel', 'soler', 'lores', 'paseo', 'bears']\n"
     ]
    }
   ],
   "source": [
    "first_words=[_[0] for _ in new_gy_count[:100]]\n",
    "print(first_words)"
   ]
  },
  {
   "cell_type": "code",
   "execution_count": null,
   "id": "157977b2-e46c-40cb-bca2-969f92ec3ec7",
   "metadata": {},
   "outputs": [],
   "source": []
  },
  {
   "cell_type": "code",
   "execution_count": null,
   "id": "c5b23203-6b60-4389-bf95-e68d4bb79d42",
   "metadata": {},
   "outputs": [],
   "source": []
  },
  {
   "cell_type": "code",
   "execution_count": null,
   "id": "8f84e9de-a379-4855-9675-01ce8c076cbe",
   "metadata": {},
   "outputs": [],
   "source": [
    "five_letter_words=[_.strip() for _ in lines]    \n",
    "\n",
    "with open(\"count_1w.txt\") as fid:\n",
    "    lines=fid.readlines()\n",
    "\n",
    "popwords,counts=zip(*[_.split() for _ in lines if len(_.split()[0])==5])    \n",
    "\n",
    "subset=[]\n",
    "for word in popwords:\n",
    "    if word in five_letter_words:\n",
    "        subset.append(word)\n",
    "\n",
    "if verbose:\n",
    "    print(\"done.\")\n",
    "\n",
    "\n"
   ]
  },
  {
   "cell_type": "code",
   "execution_count": 1,
   "id": "8411ce10-23d0-4ce2-8548-6c3c51c564be",
   "metadata": {},
   "outputs": [],
   "source": [
    "import random"
   ]
  },
  {
   "cell_type": "code",
   "execution_count": 2,
   "id": "c8616edd-33b7-462f-b2ff-afb465006ddf",
   "metadata": {},
   "outputs": [],
   "source": [
    "with open(\"wordlist_guesses.txt\") as fid:\n",
    "    lines=fid.readlines()"
   ]
  },
  {
   "cell_type": "code",
   "execution_count": 7,
   "id": "900bdb0b-e462-433c-8942-bc4a8f1358db",
   "metadata": {},
   "outputs": [
    {
     "data": {
      "text/plain": [
       "12972"
      ]
     },
     "execution_count": 7,
     "metadata": {},
     "output_type": "execute_result"
    }
   ],
   "source": [
    "wordle_words=set([_.strip() for _ in lines if _])\n",
    "len(wordle_words)"
   ]
  },
  {
   "cell_type": "code",
   "execution_count": 8,
   "id": "c513c392-cbb6-46f9-a851-d12bb4751b2e",
   "metadata": {},
   "outputs": [],
   "source": [
    "with open(\"count_1w.txt\") as fid:\n",
    "    lines=fid.readlines()"
   ]
  },
  {
   "cell_type": "code",
   "execution_count": 9,
   "id": "aa904170-0372-41ac-b178-cac451970a13",
   "metadata": {},
   "outputs": [],
   "source": [
    "popwords,counts=zip(*[_.split() for _ in lines if len(_.split()[0])==5])    "
   ]
  },
  {
   "cell_type": "code",
   "execution_count": 10,
   "id": "21910f52-0f50-4770-b676-3933b435c1cf",
   "metadata": {},
   "outputs": [
    {
     "data": {
      "text/plain": [
       "('about',\n",
       " 'other',\n",
       " 'which',\n",
       " 'their',\n",
       " 'there',\n",
       " 'first',\n",
       " 'would',\n",
       " 'these',\n",
       " 'click',\n",
       " 'price')"
      ]
     },
     "execution_count": 10,
     "metadata": {},
     "output_type": "execute_result"
    }
   ],
   "source": [
    "popwords[:10]"
   ]
  },
  {
   "cell_type": "code",
   "execution_count": 11,
   "id": "fe0b1300-076b-4cc3-971d-bb0a2cc332b2",
   "metadata": {},
   "outputs": [],
   "source": [
    "popwords=set(popwords)"
   ]
  },
  {
   "cell_type": "code",
   "execution_count": 13,
   "id": "89b4a606-6965-473d-8c6c-5dd4426f86fe",
   "metadata": {},
   "outputs": [
    {
     "data": {
      "text/plain": [
       "4880"
      ]
     },
     "execution_count": 13,
     "metadata": {},
     "output_type": "execute_result"
    }
   ],
   "source": [
    "len(wordle_words-popwords)"
   ]
  },
  {
   "cell_type": "code",
   "execution_count": 15,
   "id": "8f2291c5-bfab-4f84-bcd0-6475dc921b47",
   "metadata": {},
   "outputs": [
    {
     "data": {
      "text/plain": [
       "31841"
      ]
     },
     "execution_count": 15,
     "metadata": {},
     "output_type": "execute_result"
    }
   ],
   "source": [
    "len(popwords-wordle_words)"
   ]
  },
  {
   "cell_type": "code",
   "execution_count": 16,
   "id": "11baa702-80c9-49dd-adc5-88bdbcfa8dc2",
   "metadata": {},
   "outputs": [],
   "source": [
    "diff=wordle_words-popwords"
   ]
  },
  {
   "cell_type": "code",
   "execution_count": 20,
   "id": "975fc5c5-22cb-4dcd-8f5d-02d114d1594f",
   "metadata": {},
   "outputs": [
    {
     "name": "stdout",
     "output_type": "stream",
     "text": [
      "['breem', 'geyan', 'kyloe', 'quags', 'pipal', 'bonce', 'kerve', 'tepas', 'unsew', 'punty', 'cakey', 'leaze', 'larky', 'remex', 'obied', 'bices', 'pareu', 'tufas', 'birle', 'galvo', 'fetas', 'ciggy', 'fraim', 'stimy', 'chibs', 'clops', 'aidas', 'pacta', 'feers', 'qorma', 'topek', 'aggri', 'spado', 'sycee', 'bosks', 'stoae', 'umiaq', 'lased', 'woads', 'cutch', 'welks', 'gyals', 'volae', 'spivs', 'undug', 'thars', 'seyen', 'curat', 'labra', 'gloam', 'lunks', 'tirrs', 'twank', 'boxla', 'segol', 'anlas', 'dured', 'tajes', 'curet', 'fuero', 'tarre', 'snash', 'weets', 'tugra', 'saims', 'epopt', 'towie', 'gussy', 'zayin', 'guans', 'queyn', 'sculk', 'irids', 'styte', 'reest', 'piend', 'riems', 'gorms', 'taroc', 'immix', 'naggy', 'hoper', 'agast', 'dusks', 'lymes', 'quaky', 'kevel', 'aulic', 'murks', 'rymme', 'linos', 'seirs', 'embow', 'naifs', 'puler', 'fuffy', 'hokas', 'scend', 'smalt', 'kebar']\n"
     ]
    }
   ],
   "source": [
    "print(list(diff)[:100])"
   ]
  },
  {
   "cell_type": "code",
   "execution_count": 21,
   "id": "548bf84c-50c6-407d-8cd8-907d586c00e0",
   "metadata": {},
   "outputs": [
    {
     "data": {
      "text/plain": [
       "True"
      ]
     },
     "execution_count": 21,
     "metadata": {},
     "output_type": "execute_result"
    }
   ],
   "source": [
    "'quags' in wordle_words"
   ]
  },
  {
   "cell_type": "code",
   "execution_count": 22,
   "id": "d25e6ca5-275a-4330-95cd-ffb29a6f82ee",
   "metadata": {},
   "outputs": [],
   "source": [
    "with open(\"/Users/bblais/Downloads/1_1_all_fullalpha.txt\") as fid:\n",
    "    lines=fid.readlines()"
   ]
  },
  {
   "cell_type": "code",
   "execution_count": 26,
   "id": "bef43f1d-e35b-49ec-81c1-c696b856f8eb",
   "metadata": {},
   "outputs": [
    {
     "data": {
      "text/plain": [
       "['\\taasociation\\tNoC\\t:\\t0\\t1\\t0.00\\n',\n",
       " '\\taass\\tNoC\\t:\\t0\\t1\\t0.00\\n',\n",
       " '\\tAASWDU\\tNoP\\t:\\t0\\t1\\t0.00\\n',\n",
       " '\\taat\\tNoC\\t%\\t0\\t3\\t0.43\\n',\n",
       " '\\t@\\t@\\taat\\t0\\t2\\t0.30\\n',\n",
       " '\\t@\\t@\\taats\\t0\\t1\\t0.00\\n',\n",
       " '\\tAAT\\tNoP\\t:\\t0\\t2\\t0.30\\n',\n",
       " '\\taata\\tNoC\\t:\\t0\\t1\\t0.00\\n',\n",
       " '\\taataaa\\tNoC\\t:\\t0\\t2\\t0.26\\n',\n",
       " '\\tAATAAA\\tNoP\\t:\\t0\\t2\\t0.21\\n']"
      ]
     },
     "execution_count": 26,
     "metadata": {},
     "output_type": "execute_result"
    }
   ],
   "source": [
    "lines[100000:100000+10]"
   ]
  },
  {
   "cell_type": "code",
   "execution_count": null,
   "id": "ac4d6b29-b3a6-498c-8317-c0278daf5af7",
   "metadata": {},
   "outputs": [],
   "source": []
  }
 ],
 "metadata": {
  "kernelspec": {
   "display_name": "Python 3 (ipykernel)",
   "language": "python",
   "name": "python3"
  },
  "language_info": {
   "codemirror_mode": {
    "name": "ipython",
    "version": 3
   },
   "file_extension": ".py",
   "mimetype": "text/x-python",
   "name": "python",
   "nbconvert_exporter": "python",
   "pygments_lexer": "ipython3",
   "version": "3.8.12"
  }
 },
 "nbformat": 4,
 "nbformat_minor": 5
}
