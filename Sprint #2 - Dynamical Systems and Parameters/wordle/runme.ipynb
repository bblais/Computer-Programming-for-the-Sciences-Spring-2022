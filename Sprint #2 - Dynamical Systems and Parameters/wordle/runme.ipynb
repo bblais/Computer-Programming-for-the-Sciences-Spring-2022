{
 "cells": [
  {
   "cell_type": "code",
   "execution_count": 1,
   "id": "a4b84e09-19fd-4e0e-92f8-2e7898cc696c",
   "metadata": {},
   "outputs": [
    {
     "name": "stdout",
     "output_type": "stream",
     "text": [
      "https://www.powerlanguage.co.uk/wordle/\n"
     ]
    }
   ],
   "source": [
    "print(\"https://www.powerlanguage.co.uk/wordle/\")\n"
   ]
  },
  {
   "cell_type": "code",
   "execution_count": 2,
   "id": "c60093d4-ec11-499f-9817-ca79ed790ecc",
   "metadata": {},
   "outputs": [],
   "source": [
    "def get_full_word_list(verbose=True):\n",
    "    import random\n",
    "    \n",
    "    if verbose:\n",
    "        print(\"Reading word list...\",end=\"\")\n",
    "    with open(\"wordlist_guesses.txt\") as fid:\n",
    "        lines=fid.readlines()\n",
    "    five_letter_words=[_.strip() for _ in lines]    \n",
    "\n",
    "    with open(\"count_1w.txt\") as fid:\n",
    "        lines=fid.readlines()\n",
    "\n",
    "    popwords,counts=zip(*[_.split() for _ in lines if len(_.split()[0])==5])    \n",
    "\n",
    "    subset=[]\n",
    "    for word in popwords:\n",
    "        if word in five_letter_words:\n",
    "            subset.append(word)\n",
    "\n",
    "    if verbose:\n",
    "        print(\"done.\")\n",
    "            \n",
    "    return subset\n",
    "\n",
    "\n",
    "def difference(word1,word2):\n",
    "    L=['-']*5\n",
    "    word1=list(word1)\n",
    "    word2=list(word2)    \n",
    "    positions=list(range(5))\n",
    "    for idx in positions.copy():\n",
    "        if word1[idx]==word2[idx]:\n",
    "            L[idx]='g'\n",
    "            positions.remove(idx)\n",
    "            word1[idx]=\".\"\n",
    "            word2[idx]=\".\"\n",
    "\n",
    "            \n",
    "    for idx in positions:\n",
    "        try: \n",
    "            idx2=word2.index(word1[idx])\n",
    "            L[idx]='y'\n",
    "            word1[idx]=\".\"\n",
    "            word2[idx2]=\".\"\n",
    "        except ValueError:\n",
    "            continue\n",
    "            \n",
    "    \n",
    "    return ''.join(L)\n",
    "    \n",
    "    \n",
    "\n",
    "def first_guess(words,verbose=True):\n",
    "    \n",
    "    import random\n",
    "    \n",
    "    # top 100 from 2022-01-17 - Find optimum first word\n",
    "    first_words=['arose', 'aeros', 'raise', 'arise', 'reais', 'serai', 'aesir', 'rates', 'tears', 'stare', \n",
    "                 'aster', 'taser', 'tares', 'stear', 'teras', 'reast', 'laser', 'reals', 'earls', 'arles', \n",
    "                 'lares', 'seral', 'rales', 'lears', 'aloes', 'earns', 'snare', 'nears', 'saner', 'nares', \n",
    "                 'aeons', 'aisle', 'anise', 'saine', 'least', 'tales', 'steal', 'slate', 'tesla', 'stale', 'stela', \n",
    "                 'reads', 'dares', 'dears', 'arsed', 'eards', 'ursae', 'osier', 'acres', 'races', 'cares', 'scare', \n",
    "                 'carse', 'serac', 'acers', 'antes', 'nates', 'stane', 'lanes', 'leans', 'slane', 'neals', 'smear', \n",
    "                 'mares', 'reams', 'maser', 'marse', 'spare', 'parse', 'spear', 'pears',  'apres', 'reaps', \n",
    "                 'pares', 'presa', 'asper', 'apers', 'years', 'ayres', 'sayer', 'ideas', 'aside', 'aides', 'store', \n",
    "                 'resto', 'estro', 'rotes', 'roset', 'share', 'shear', 'hears', 'hares', 'roles', 'loser', 'sorel', \n",
    "                 'soler', 'lores', 'paseo', 'bears', ]\n",
    "        \n",
    "    return random.choice(first_words[:10])\n",
    "\n",
    "def double_letters(word):\n",
    "    if len(set(word))==len(word):\n",
    "        return False\n",
    "    else:\n",
    "        return True\n",
    "\n",
    "def guess(words,knowledge,previous_guesses,verbose=True):\n",
    "    import random\n",
    "    from tqdm import tqdm\n",
    "    if not knowledge:\n",
    "        assert not previous_guesses\n",
    "        return first_guess(words,verbose=verbose),False\n",
    "        \n",
    "    if verbose:\n",
    "        print(len(words))\n",
    "    for know in knowledge:\n",
    "        if len(know)==3:\n",
    "            letter,notty,idx=know\n",
    "            idx=int(idx)\n",
    "\n",
    "            if notty=='!':\n",
    "                words=[_ for _ in words if letter in _ and _[idx]!=letter]\n",
    "            elif notty=='=':\n",
    "                words=[_ for _ in words if letter in _ and _[idx]==letter]\n",
    "        elif len(know)==2:\n",
    "            assert know[0]=='!'\n",
    "            letter=know[1]\n",
    "\n",
    "            words=[_ for _ in words if letter not in _]\n",
    "\n",
    "\n",
    "        if verbose:\n",
    "            print(len(words))\n",
    "\n",
    "            \n",
    "    if len(words)==1:\n",
    "        return words[0],True\n",
    "    else:\n",
    "\n",
    "        gy_count={}\n",
    "        for word1 in tqdm(words):\n",
    "            gy_count[word1]=0\n",
    "            for word2 in words:\n",
    "                S=difference(word1,word2)\n",
    "                gy_count[word1]+=S.count('y')+S.count('g')\n",
    "                    \n",
    "        new_gy_count=[(k,v) for k, v in sorted(gy_count.items(), key=lambda item: item[1],reverse=True)]                    \n",
    "\n",
    "        if len(words)<30:\n",
    "            print(words)\n",
    "\n",
    "            # # no overlapping letters (not hard mode)\n",
    "            # previous_guess=previous_guesses[0]\n",
    "            # words=[_[0] for _ in new_gy_count if difference(previous_guess,_[0])=='-----']\n",
    "            \n",
    "            \n",
    "        if len(previous_guesses)==1:  # second guess - no double letters\n",
    "            words=[_[0] for _ in new_gy_count if not double_letters(_[0])][:10] \n",
    "        else:            \n",
    "            words=[_[0] for _ in new_gy_count][:10]              \n",
    "        \n",
    "        if len(words)<5:\n",
    "            words=[words[0]]  # take the most popular one\n",
    "\n",
    "\n",
    "\n",
    "        return random.choice(words),False\n",
    "            \n"
   ]
  },
  {
   "cell_type": "code",
   "execution_count": 3,
   "id": "c2e8022f-bc51-4aeb-8a0c-7026faaff592",
   "metadata": {},
   "outputs": [],
   "source": [
    "def get_feedback():\n",
    "    while True:\n",
    "    \n",
    "        fb=input('XXXXX [- y g]:')\n",
    "\n",
    "        if not fb:\n",
    "            break\n",
    "\n",
    "        if len(fb)!=5:\n",
    "            print(\"  wrong length %d\" % len(fb))\n",
    "            continue\n",
    "        if (set(fb)-set('-yg')):\n",
    "            print(\"  wrong symbol in \",fb)\n",
    "            continue\n",
    "            \n",
    "        break\n",
    "    return fb\n"
   ]
  },
  {
   "cell_type": "code",
   "execution_count": null,
   "id": "418620c0-7539-4dce-9b16-aa9b2eeebeef",
   "metadata": {},
   "outputs": [],
   "source": []
  },
  {
   "cell_type": "code",
   "execution_count": 4,
   "id": "c58830cb-671a-417b-bde0-ac84540e17fb",
   "metadata": {},
   "outputs": [],
   "source": [
    "def update_knowledge(knowledge,guess,feedback):\n",
    "    \n",
    "    g=guess\n",
    "    fb=feedback\n",
    "    \n",
    "    for i in range(5):\n",
    "        if fb[i]=='-':\n",
    "            knowledge+=[\"!\"+g[i]]\n",
    "        elif fb[i]=='y':\n",
    "            knowledge+=[g[i]+\"!\"+\"%d\" % i]\n",
    "        elif fb[i]=='g':\n",
    "            knowledge+=[g[i]+\"=\"+\"%d\" %i]\n",
    "        else:\n",
    "            raise ValueError(\"You can't get there from here.\")\n",
    "        \n",
    "        \n",
    "        \n",
    "    # not sure how double letters will be handled\n",
    "    # filter for duplicates\n",
    "    new_knowledge=[]\n",
    "    fixed_letters=[k[0] for k in knowledge if len(k)==3]\n",
    "    for know in knowledge:\n",
    "        if len(know)==3:\n",
    "            new_knowledge.append(know)\n",
    "        elif len(know)==2:\n",
    "            letter=know[1]\n",
    "            if letter not in fixed_letters:\n",
    "                new_knowledge.append(know)\n",
    "                \n",
    "    knowledge=new_knowledge\n",
    "    \n",
    "    \n",
    "    return knowledge\n",
    "    \n",
    "        "
   ]
  },
  {
   "cell_type": "code",
   "execution_count": 5,
   "id": "7b3c3f99-cfcd-45e2-998f-8287705185d0",
   "metadata": {},
   "outputs": [
    {
     "name": "stdout",
     "output_type": "stream",
     "text": [
      "Reading word list...done.\n",
      "arise\n"
     ]
    },
    {
     "name": "stdin",
     "output_type": "stream",
     "text": [
      "XXXXX [- y g]: -y---\n"
     ]
    },
    {
     "name": "stdout",
     "output_type": "stream",
     "text": [
      "8092\n",
      "4733\n",
      "1075\n",
      "762\n",
      "432\n",
      "125\n"
     ]
    },
    {
     "name": "stderr",
     "output_type": "stream",
     "text": [
      "100%|███████████████████████████████████████████████████████████| 125/125 [00:00<00:00, 1948.92it/s]\n"
     ]
    },
    {
     "name": "stdout",
     "output_type": "stream",
     "text": [
      "outro\n"
     ]
    },
    {
     "name": "stdin",
     "output_type": "stream",
     "text": [
      "XXXXX [- y g]: yy-g-\n"
     ]
    },
    {
     "name": "stdout",
     "output_type": "stream",
     "text": [
      "8092\n",
      "4733\n",
      "1075\n",
      "762\n",
      "432\n",
      "125\n",
      "91\n",
      "13\n",
      "11\n",
      "5\n"
     ]
    },
    {
     "name": "stderr",
     "output_type": "stream",
     "text": [
      "100%|██████████████████████████████████████████████████████████████| 5/5 [00:00<00:00, 17985.87it/s]\n"
     ]
    },
    {
     "name": "stdout",
     "output_type": "stream",
     "text": [
      "['mourn', 'gourd', 'bourg', 'bourn', 'loury']\n",
      "mourn\n"
     ]
    },
    {
     "name": "stdin",
     "output_type": "stream",
     "text": [
      "XXXXX [- y g]: ggggg\n"
     ]
    },
    {
     "name": "stdout",
     "output_type": "stream",
     "text": [
      "8092\n",
      "4733\n",
      "1075\n",
      "762\n",
      "432\n",
      "125\n",
      "91\n",
      "13\n",
      "11\n",
      "5\n",
      "1\n",
      "1\n",
      "1\n",
      "1\n",
      "1\n",
      "mourn\n",
      "Done.\n"
     ]
    }
   ],
   "source": [
    "knowledge=[]\n",
    "words=get_full_word_list()\n",
    "guesses=[]\n",
    "while True:\n",
    "    \n",
    "    g,stop=guess(words,knowledge,guesses)\n",
    "    print(g)\n",
    "    \n",
    "    if stop:\n",
    "        break\n",
    "    fb=get_feedback()\n",
    "    if fb:\n",
    "        knowledge=update_knowledge(knowledge,g,fb)\n",
    "\n",
    "print(\"Done.\")\n"
   ]
  },
  {
   "cell_type": "code",
   "execution_count": null,
   "id": "0fc81944-04cb-41f7-a3b6-017c6b526a49",
   "metadata": {},
   "outputs": [],
   "source": []
  },
  {
   "cell_type": "code",
   "execution_count": null,
   "id": "1745b3c0-41c1-4850-84ba-206349861f44",
   "metadata": {},
   "outputs": [],
   "source": []
  }
 ],
 "metadata": {
  "kernelspec": {
   "display_name": "Python 3 (ipykernel)",
   "language": "python",
   "name": "python3"
  },
  "language_info": {
   "codemirror_mode": {
    "name": "ipython",
    "version": 3
   },
   "file_extension": ".py",
   "mimetype": "text/x-python",
   "name": "python",
   "nbconvert_exporter": "python",
   "pygments_lexer": "ipython3",
   "version": "3.8.12"
  }
 },
 "nbformat": 4,
 "nbformat_minor": 5
}
