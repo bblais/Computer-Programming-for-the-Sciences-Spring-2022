{
 "cells": [
  {
   "cell_type": "code",
   "execution_count": 1,
   "id": "8c7b6342-eb8f-4287-85df-6b3aa81352eb",
   "metadata": {},
   "outputs": [
    {
     "name": "stdout",
     "output_type": "stream",
     "text": [
      "Populating the interactive namespace from numpy and matplotlib\n"
     ]
    }
   ],
   "source": [
    "%pylab inline"
   ]
  },
  {
   "cell_type": "code",
   "execution_count": 2,
   "id": "6e70d81c-42d8-4564-8999-5649cbe3c145",
   "metadata": {},
   "outputs": [
    {
     "name": "stdout",
     "output_type": "stream",
     "text": [
      "Version:  0.0.18\n"
     ]
    }
   ],
   "source": [
    "from sci378 import *"
   ]
  },
  {
   "cell_type": "code",
   "execution_count": 3,
   "id": "58ef4d74-23ef-48eb-b6be-b753edfee0d8",
   "metadata": {},
   "outputs": [],
   "source": [
    "data=pd.read_csv('covid_japan.csv')"
   ]
  },
  {
   "cell_type": "code",
   "execution_count": 4,
   "id": "d9fd1e9c-b378-41a3-8476-17880a365971",
   "metadata": {},
   "outputs": [
    {
     "data": {
      "text/html": [
       "<div>\n",
       "<style scoped>\n",
       "    .dataframe tbody tr th:only-of-type {\n",
       "        vertical-align: middle;\n",
       "    }\n",
       "\n",
       "    .dataframe tbody tr th {\n",
       "        vertical-align: top;\n",
       "    }\n",
       "\n",
       "    .dataframe thead th {\n",
       "        text-align: right;\n",
       "    }\n",
       "</style>\n",
       "<table border=\"1\" class=\"dataframe\">\n",
       "  <thead>\n",
       "    <tr style=\"text-align: right;\">\n",
       "      <th></th>\n",
       "      <th>Date</th>\n",
       "      <th>Confirmed</th>\n",
       "      <th>Fatal</th>\n",
       "      <th>Recovered</th>\n",
       "      <th>Hosp_require</th>\n",
       "      <th>Moderate</th>\n",
       "      <th>Severe</th>\n",
       "      <th>Tests</th>\n",
       "    </tr>\n",
       "  </thead>\n",
       "  <tbody>\n",
       "    <tr>\n",
       "      <th>0</th>\n",
       "      <td>2/6/2020</td>\n",
       "      <td>25</td>\n",
       "      <td>0.0</td>\n",
       "      <td>4.0</td>\n",
       "      <td>0.0</td>\n",
       "      <td>0.0</td>\n",
       "      <td>0.0</td>\n",
       "      <td>698.0</td>\n",
       "    </tr>\n",
       "    <tr>\n",
       "      <th>1</th>\n",
       "      <td>2/7/2020</td>\n",
       "      <td>25</td>\n",
       "      <td>0.0</td>\n",
       "      <td>4.0</td>\n",
       "      <td>0.0</td>\n",
       "      <td>0.0</td>\n",
       "      <td>0.0</td>\n",
       "      <td>717.0</td>\n",
       "    </tr>\n",
       "    <tr>\n",
       "      <th>2</th>\n",
       "      <td>2/10/2020</td>\n",
       "      <td>26</td>\n",
       "      <td>0.0</td>\n",
       "      <td>9.0</td>\n",
       "      <td>0.0</td>\n",
       "      <td>0.0</td>\n",
       "      <td>0.0</td>\n",
       "      <td>938.0</td>\n",
       "    </tr>\n",
       "    <tr>\n",
       "      <th>3</th>\n",
       "      <td>2/12/2020</td>\n",
       "      <td>28</td>\n",
       "      <td>0.0</td>\n",
       "      <td>10.0</td>\n",
       "      <td>0.0</td>\n",
       "      <td>0.0</td>\n",
       "      <td>0.0</td>\n",
       "      <td>954.0</td>\n",
       "    </tr>\n",
       "    <tr>\n",
       "      <th>4</th>\n",
       "      <td>2/13/2020</td>\n",
       "      <td>29</td>\n",
       "      <td>0.0</td>\n",
       "      <td>11.0</td>\n",
       "      <td>0.0</td>\n",
       "      <td>0.0</td>\n",
       "      <td>0.0</td>\n",
       "      <td>964.0</td>\n",
       "    </tr>\n",
       "    <tr>\n",
       "      <th>5</th>\n",
       "      <td>2/14/2020</td>\n",
       "      <td>33</td>\n",
       "      <td>0.0</td>\n",
       "      <td>12.0</td>\n",
       "      <td>0.0</td>\n",
       "      <td>0.0</td>\n",
       "      <td>0.0</td>\n",
       "      <td>978.0</td>\n",
       "    </tr>\n",
       "    <tr>\n",
       "      <th>6</th>\n",
       "      <td>2/17/2020</td>\n",
       "      <td>59</td>\n",
       "      <td>1.0</td>\n",
       "      <td>16.0</td>\n",
       "      <td>0.0</td>\n",
       "      <td>-3.0</td>\n",
       "      <td>3.0</td>\n",
       "      <td>1251.0</td>\n",
       "    </tr>\n",
       "    <tr>\n",
       "      <th>7</th>\n",
       "      <td>2/18/2020</td>\n",
       "      <td>66</td>\n",
       "      <td>1.0</td>\n",
       "      <td>16.0</td>\n",
       "      <td>0.0</td>\n",
       "      <td>-3.0</td>\n",
       "      <td>3.0</td>\n",
       "      <td>1287.0</td>\n",
       "    </tr>\n",
       "    <tr>\n",
       "      <th>8</th>\n",
       "      <td>2/19/2020</td>\n",
       "      <td>73</td>\n",
       "      <td>1.0</td>\n",
       "      <td>18.0</td>\n",
       "      <td>0.0</td>\n",
       "      <td>-6.0</td>\n",
       "      <td>6.0</td>\n",
       "      <td>1296.0</td>\n",
       "    </tr>\n",
       "    <tr>\n",
       "      <th>9</th>\n",
       "      <td>2/20/2020</td>\n",
       "      <td>84</td>\n",
       "      <td>1.0</td>\n",
       "      <td>20.0</td>\n",
       "      <td>0.0</td>\n",
       "      <td>-7.0</td>\n",
       "      <td>7.0</td>\n",
       "      <td>1432.0</td>\n",
       "    </tr>\n",
       "  </tbody>\n",
       "</table>\n",
       "</div>"
      ],
      "text/plain": [
       "        Date  Confirmed  Fatal  Recovered  Hosp_require  Moderate  Severe  \\\n",
       "0   2/6/2020         25    0.0        4.0           0.0       0.0     0.0   \n",
       "1   2/7/2020         25    0.0        4.0           0.0       0.0     0.0   \n",
       "2  2/10/2020         26    0.0        9.0           0.0       0.0     0.0   \n",
       "3  2/12/2020         28    0.0       10.0           0.0       0.0     0.0   \n",
       "4  2/13/2020         29    0.0       11.0           0.0       0.0     0.0   \n",
       "5  2/14/2020         33    0.0       12.0           0.0       0.0     0.0   \n",
       "6  2/17/2020         59    1.0       16.0           0.0      -3.0     3.0   \n",
       "7  2/18/2020         66    1.0       16.0           0.0      -3.0     3.0   \n",
       "8  2/19/2020         73    1.0       18.0           0.0      -6.0     6.0   \n",
       "9  2/20/2020         84    1.0       20.0           0.0      -7.0     7.0   \n",
       "\n",
       "    Tests  \n",
       "0   698.0  \n",
       "1   717.0  \n",
       "2   938.0  \n",
       "3   954.0  \n",
       "4   964.0  \n",
       "5   978.0  \n",
       "6  1251.0  \n",
       "7  1287.0  \n",
       "8  1296.0  \n",
       "9  1432.0  "
      ]
     },
     "execution_count": 4,
     "metadata": {},
     "output_type": "execute_result"
    }
   ],
   "source": [
    "data.head(10)"
   ]
  },
  {
   "cell_type": "code",
   "execution_count": null,
   "id": "f97a17b1-e3ac-4480-b655-bf0c1299aaaa",
   "metadata": {},
   "outputs": [],
   "source": []
  },
  {
   "cell_type": "code",
   "execution_count": 7,
   "id": "2b561b7c-3cb0-499f-9abc-e5d8e233589e",
   "metadata": {},
   "outputs": [],
   "source": [
    "t=date_to_float(data['Date'])\n",
    "c=data['Confirmed']"
   ]
  },
  {
   "cell_type": "code",
   "execution_count": 10,
   "id": "cee0484a-8363-4dab-b87d-6ff8b960bd98",
   "metadata": {},
   "outputs": [
    {
     "data": {
      "text/plain": [
       "35099     17471\n",
       "35100     12366\n",
       "35101    238758\n",
       "35102     23868\n",
       "35103     25828\n",
       "35104     49910\n",
       "35105     24455\n",
       "35106     18981\n",
       "35107     32039\n",
       "35108    101575\n",
       "Name: Confirmed, dtype: int64"
      ]
     },
     "execution_count": 10,
     "metadata": {},
     "output_type": "execute_result"
    }
   ],
   "source": []
  },
  {
   "cell_type": "code",
   "execution_count": 14,
   "id": "5dd17c61-df74-4b45-afdc-f80542f3d29b",
   "metadata": {},
   "outputs": [
    {
     "data": {
      "image/png": "[encoded data removed]",
      "text/plain": [
       "<Figure size 864x576 with 1 Axes>"
      ]
     },
     "metadata": {
      "needs_background": "light"
     },
     "output_type": "display_data"
    }
   ],
   "source": [
    "N=700\n",
    "plot(t[:N],c[:N])\n",
    "\n",
    "t,c=t[:N],c[:N]"
   ]
  },
  {
   "cell_type": "code",
   "execution_count": 16,
   "id": "11079b26-13d2-437f-95e0-554c96915d8e",
   "metadata": {},
   "outputs": [
    {
     "data": {
      "text/plain": [
       "[<matplotlib.lines.Line2D at 0x7f8858972ac0>]"
      ]
     },
     "execution_count": 16,
     "metadata": {},
     "output_type": "execute_result"
    },
    {
     "data": {
      "image/png": "[encoded data removed]",
      "text/plain": [
       "<Figure size 864x576 with 1 Axes>"
      ]
     },
     "metadata": {
      "needs_background": "light"
     },
     "output_type": "display_data"
    }
   ],
   "source": [
    "plot(t,c,'o-')"
   ]
  },
  {
   "cell_type": "code",
   "execution_count": 17,
   "id": "d788067f-7864-4c1a-8de9-815b194606b1",
   "metadata": {},
   "outputs": [
    {
     "data": {
      "text/plain": [
       "array([1, 2, 1, 3, 1, 1])"
      ]
     },
     "execution_count": 17,
     "metadata": {},
     "output_type": "execute_result"
    }
   ],
   "source": [
    "diff([1,2,4,5,8,9,10])"
   ]
  },
  {
   "cell_type": "code",
   "execution_count": 18,
   "id": "f5d05ac0-b8a4-49b7-991d-5f52f1aa7427",
   "metadata": {},
   "outputs": [
    {
     "data": {
      "text/plain": [
       "[<matplotlib.lines.Line2D at 0x7f88a8b58100>]"
      ]
     },
     "execution_count": 18,
     "metadata": {},
     "output_type": "execute_result"
    },
    {
     "data": {
      "image/png": "[encoded data removed]",
      "text/plain": [
       "<Figure size 864x576 with 1 Axes>"
      ]
     },
     "metadata": {
      "needs_background": "light"
     },
     "output_type": "display_data"
    }
   ],
   "source": [
    "t_data=t[1:]\n",
    "I_data=diff(c)\n",
    "plot(t_data,I_data,'o-')"
   ]
  },
  {
   "cell_type": "code",
   "execution_count": null,
   "id": "52570084-879c-450b-b1bd-64ea77fd2123",
   "metadata": {},
   "outputs": [],
   "source": []
  },
  {
   "cell_type": "code",
   "execution_count": null,
   "id": "3f7572b2-6785-4487-b3d3-5f961e76c64b",
   "metadata": {},
   "outputs": [],
   "source": []
  },
  {
   "cell_type": "code",
   "execution_count": null,
   "id": "1d3c9b4e-08b9-44c9-9dc7-5283a92f9ed4",
   "metadata": {},
   "outputs": [],
   "source": []
  },
  {
   "cell_type": "code",
   "execution_count": null,
   "id": "7c426268-3193-4690-bd56-ac1170a2826c",
   "metadata": {},
   "outputs": [],
   "source": []
  },
  {
   "cell_type": "code",
   "execution_count": null,
   "id": "68621711-a321-4cda-b9e2-1c9d7ff022ec",
   "metadata": {},
   "outputs": [],
   "source": []
  },
  {
   "cell_type": "code",
   "execution_count": null,
   "id": "214e52ad-2749-4707-8055-442862209b4a",
   "metadata": {},
   "outputs": [],
   "source": []
  },
  {
   "cell_type": "code",
   "execution_count": null,
   "id": "43414b9d-ba75-4390-b418-cae420fa73cf",
   "metadata": {},
   "outputs": [],
   "source": []
  },
  {
   "cell_type": "code",
   "execution_count": null,
   "id": "62a76afa-7148-4db7-9db7-8aeca9ee2742",
   "metadata": {},
   "outputs": [],
   "source": []
  },
  {
   "cell_type": "code",
   "execution_count": null,
   "id": "42a3566c-85d1-4586-9d14-5620cae66755",
   "metadata": {},
   "outputs": [],
   "source": []
  },
  {
   "cell_type": "markdown",
   "id": "13f4c5bb-7a6c-491a-ab9a-0f9a9417eaa7",
   "metadata": {},
   "source": [
    "$$\n",
    "n'= rn(1-n/k) - hn/(a+n)\n",
    "$$"
   ]
  },
  {
   "cell_type": "markdown",
   "id": "3ced2d35-33e0-4f5d-a30e-623852b86375",
   "metadata": {},
   "source": [
    "$$\n",
    "n'= n \\cdot (r(1-n/k) -h/(a+n))\n",
    "$$"
   ]
  },
  {
   "cell_type": "markdown",
   "id": "8d76aa79-b337-4855-8d1c-3180cf705987",
   "metadata": {},
   "source": [
    "$$\n",
    "r(1-n/k) -h/(a+n)=0\n",
    "$$\n",
    "\n",
    "$$\n",
    "r(1-n/k)=h/(a+n)\n",
    "$$\n"
   ]
  },
  {
   "cell_type": "code",
   "execution_count": null,
   "id": "042415d0-e442-4f3d-81e2-78da2d6bbd7d",
   "metadata": {},
   "outputs": [],
   "source": []
  }
 ],
 "metadata": {
  "kernelspec": {
   "display_name": "Python 3 (ipykernel)",
   "language": "python",
   "name": "python3"
  },
  "language_info": {
   "codemirror_mode": {
    "name": "ipython",
    "version": 3
   },
   "file_extension": ".py",
   "mimetype": "text/x-python",
   "name": "python",
   "nbconvert_exporter": "python",
   "pygments_lexer": "ipython3",
   "version": "3.8.12"
  }
 },
 "nbformat": 4,
 "nbformat_minor": 5
}
