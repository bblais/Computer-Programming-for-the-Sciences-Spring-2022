{
 "cells": [
  {
   "cell_type": "code",
   "execution_count": 1,
   "id": "74f9d83e-f1cb-4e62-a0f8-0f52a3593896",
   "metadata": {},
   "outputs": [
    {
     "name": "stdout",
     "output_type": "stream",
     "text": [
      "Populating the interactive namespace from numpy and matplotlib\n"
     ]
    }
   ],
   "source": [
    "%pylab inline"
   ]
  },
  {
   "cell_type": "code",
   "execution_count": 2,
   "id": "3a645400-65b0-4031-9822-7d2b4a142879",
   "metadata": {},
   "outputs": [
    {
     "name": "stdout",
     "output_type": "stream",
     "text": [
      "pyndamics3  version  0.0.29\n",
      "Version:  0.0.18\n"
     ]
    }
   ],
   "source": [
    "from pyndamics3 import Simulation\n",
    "from sci378 import *"
   ]
  },
  {
   "cell_type": "code",
   "execution_count": 4,
   "id": "71e4126a-146f-4df5-b914-8a2150d421cd",
   "metadata": {},
   "outputs": [
    {
     "data": {
      "text/html": [
       "<div>\n",
       "<style scoped>\n",
       "    .dataframe tbody tr th:only-of-type {\n",
       "        vertical-align: middle;\n",
       "    }\n",
       "\n",
       "    .dataframe tbody tr th {\n",
       "        vertical-align: top;\n",
       "    }\n",
       "\n",
       "    .dataframe thead th {\n",
       "        text-align: right;\n",
       "    }\n",
       "</style>\n",
       "<table border=\"1\" class=\"dataframe\">\n",
       "  <thead>\n",
       "    <tr style=\"text-align: right;\">\n",
       "      <th></th>\n",
       "      <th>Year</th>\n",
       "      <th>Americans with Cellular Service (%)</th>\n",
       "    </tr>\n",
       "  </thead>\n",
       "  <tbody>\n",
       "    <tr>\n",
       "      <th>0</th>\n",
       "      <td>1995</td>\n",
       "      <td>12.690</td>\n",
       "    </tr>\n",
       "    <tr>\n",
       "      <th>1</th>\n",
       "      <td>1996</td>\n",
       "      <td>16.350</td>\n",
       "    </tr>\n",
       "    <tr>\n",
       "      <th>2</th>\n",
       "      <td>1997</td>\n",
       "      <td>20.290</td>\n",
       "    </tr>\n",
       "    <tr>\n",
       "      <th>3</th>\n",
       "      <td>1998</td>\n",
       "      <td>25.080</td>\n",
       "    </tr>\n",
       "    <tr>\n",
       "      <th>4</th>\n",
       "      <td>1999</td>\n",
       "      <td>30.810</td>\n",
       "    </tr>\n",
       "    <tr>\n",
       "      <th>5</th>\n",
       "      <td>2000</td>\n",
       "      <td>38.750</td>\n",
       "    </tr>\n",
       "    <tr>\n",
       "      <th>6</th>\n",
       "      <td>2001</td>\n",
       "      <td>45.000</td>\n",
       "    </tr>\n",
       "    <tr>\n",
       "      <th>7</th>\n",
       "      <td>2002</td>\n",
       "      <td>49.160</td>\n",
       "    </tr>\n",
       "    <tr>\n",
       "      <th>8</th>\n",
       "      <td>2003</td>\n",
       "      <td>55.150</td>\n",
       "    </tr>\n",
       "    <tr>\n",
       "      <th>9</th>\n",
       "      <td>2004</td>\n",
       "      <td>62.852</td>\n",
       "    </tr>\n",
       "    <tr>\n",
       "      <th>10</th>\n",
       "      <td>2005</td>\n",
       "      <td>68.630</td>\n",
       "    </tr>\n",
       "    <tr>\n",
       "      <th>11</th>\n",
       "      <td>2006</td>\n",
       "      <td>76.640</td>\n",
       "    </tr>\n",
       "    <tr>\n",
       "      <th>12</th>\n",
       "      <td>2007</td>\n",
       "      <td>82.470</td>\n",
       "    </tr>\n",
       "    <tr>\n",
       "      <th>13</th>\n",
       "      <td>2008</td>\n",
       "      <td>85.680</td>\n",
       "    </tr>\n",
       "    <tr>\n",
       "      <th>14</th>\n",
       "      <td>2009</td>\n",
       "      <td>89.140</td>\n",
       "    </tr>\n",
       "    <tr>\n",
       "      <th>15</th>\n",
       "      <td>2010</td>\n",
       "      <td>91.860</td>\n",
       "    </tr>\n",
       "    <tr>\n",
       "      <th>16</th>\n",
       "      <td>2011</td>\n",
       "      <td>95.280</td>\n",
       "    </tr>\n",
       "    <tr>\n",
       "      <th>17</th>\n",
       "      <td>2012</td>\n",
       "      <td>98.170</td>\n",
       "    </tr>\n",
       "  </tbody>\n",
       "</table>\n",
       "</div>"
      ],
      "text/plain": [
       "    Year  Americans with Cellular Service (%)\n",
       "0   1995                               12.690\n",
       "1   1996                               16.350\n",
       "2   1997                               20.290\n",
       "3   1998                               25.080\n",
       "4   1999                               30.810\n",
       "5   2000                               38.750\n",
       "6   2001                               45.000\n",
       "7   2002                               49.160\n",
       "8   2003                               55.150\n",
       "9   2004                               62.852\n",
       "10  2005                               68.630\n",
       "11  2006                               76.640\n",
       "12  2007                               82.470\n",
       "13  2008                               85.680\n",
       "14  2009                               89.140\n",
       "15  2010                               91.860\n",
       "16  2011                               95.280\n",
       "17  2012                               98.170"
      ]
     },
     "execution_count": 4,
     "metadata": {},
     "output_type": "execute_result"
    }
   ],
   "source": [
    "data=pd.read_excel('Mobile telephone service.xlsx')\n",
    "data"
   ]
  },
  {
   "cell_type": "code",
   "execution_count": 9,
   "id": "e786ad87-8813-4cf0-8edc-416d5225a6c4",
   "metadata": {},
   "outputs": [],
   "source": [
    "t=data['Year']\n",
    "x=data['Americans with Cellular Service (%)']\n",
    "t=t-min(t)  # this data doesn't start at t=0, so adjust"
   ]
  },
  {
   "cell_type": "code",
   "execution_count": 17,
   "id": "588e0e70-e6f1-48ae-be9b-1c0de3c63dba",
   "metadata": {},
   "outputs": [
    {
     "data": {
      "text/plain": [
       "[<matplotlib.lines.Line2D at 0x7fabd89cf400>]"
      ]
     },
     "execution_count": 17,
     "metadata": {},
     "output_type": "execute_result"
    },
    {
     "data": {
      "image/png": "[encoded data removed]",
      "text/plain": [
       "<Figure size 864x576 with 1 Axes>"
      ]
     },
     "metadata": {
      "needs_background": "light"
     },
     "output_type": "display_data"
    }
   ],
   "source": [
    "sim=Simulation()\n",
    "sim.add(\"x' = a*x*(1-x/K)\",13)\n",
    "sim.params(a=.25,K=110)\n",
    "sim.run(20)\n",
    "\n",
    "plot(sim.t,sim.x,'g-')\n",
    "plot(t,x,'bo-')\n",
    "\n",
    "# plot the x=0 fixed point\n",
    "sim=Simulation()\n",
    "sim.add(\"x' = a*x*(1-x/K)\",0)\n",
    "sim.params(a=.25,K=110)\n",
    "sim.run(20)\n",
    "plot(sim.t,sim.x,'r-')\n",
    "\n",
    "\n",
    "# plot the x=K fixed point\n",
    "sim=Simulation()\n",
    "sim.add(\"x' = a*x*(1-x/K)\",110)\n",
    "sim.params(a=.25,K=110)\n",
    "sim.run(20)\n",
    "plot(sim.t,sim.x,'r-')\n"
   ]
  },
  {
   "cell_type": "code",
   "execution_count": null,
   "id": "49569086-1b79-4a91-a52a-7b37a431b1ad",
   "metadata": {},
   "outputs": [],
   "source": []
  }
 ],
 "metadata": {
  "kernelspec": {
   "display_name": "Python 3 (ipykernel)",
   "language": "python",
   "name": "python3"
  },
  "language_info": {
   "codemirror_mode": {
    "name": "ipython",
    "version": 3
   },
   "file_extension": ".py",
   "mimetype": "text/x-python",
   "name": "python",
   "nbconvert_exporter": "python",
   "pygments_lexer": "ipython3",
   "version": "3.8.12"
  }
 },
 "nbformat": 4,
 "nbformat_minor": 5
}
